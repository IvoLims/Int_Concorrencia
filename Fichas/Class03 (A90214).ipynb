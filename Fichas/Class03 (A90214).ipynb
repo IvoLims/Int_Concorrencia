{
 "cells": [
  {
   "cell_type": "markdown",
   "id": "advance-helmet",
   "metadata": {},
   "source": [
    "# Qiskit 3 - 2020/2021\n",
    "\n",
    "&nbsp;\n",
    "\n",
    "1. [The Deutsch-Jozsa Algorithm](#dj)\n",
    "2. [How to run in real device](#provider)\n",
    "3. [Exercises](#exercises)"
   ]
  },
  {
   "cell_type": "markdown",
   "id": "decent-platform",
   "metadata": {},
   "source": [
    "## 1. Deutsch-Jozsa <a id='dj'></a>"
   ]
  },
  {
   "cell_type": "markdown",
   "id": "color-authorization",
   "metadata": {},
   "source": [
    "The Deutsch-Jozsa Algorithm proposed by David Deutsch and Richard Jozsa in 1992,has limited practical use but is one of the first examples of a quantum algorithm, displaying the advantages of working in the quantum paradigm.\n",
    "\n",
    "This algorithm is deterministic and verifies if a function $f:\\{0,1\\}^n\\rightarrow \\{0,1\\}$ is balanced or constant.\n",
    "\n",
    "- **Constant**: its output is always 0 or always 1\n",
    "- **Balanced**: outputs 0 for half of the input value and 1 for the other half\n"
   ]
  },
  {
   "cell_type": "markdown",
   "id": "statewide-enclosure",
   "metadata": {},
   "source": [
    "### Example\n",
    "(with $n = 3$)\n",
    "\n",
    "**Constant function**\n",
    "\n",
    "|input|output|\n",
    "|-|-|\n",
    "|000|0|\n",
    "|001|0|\n",
    "|010|0|\n",
    "|011|0|\n",
    "|100|0|\n",
    "|101|0|\n",
    "|110|0|\n",
    "|111|0|\n",
    "\n",
    "**Balanced function**\n",
    "\n",
    "|input|output|\n",
    "|-|-|\n",
    "|000|0|\n",
    "|001|1|\n",
    "|010|1|\n",
    "|011|0|\n",
    "|100|1|\n",
    "|101|0|\n",
    "|110|0|\n",
    "|111|1|\n",
    "\n",
    "\n",
    "**Balanced function worst case scenario**\n",
    "\n",
    "|input|output|\n",
    "|-|-|\n",
    "|000|0|\n",
    "|001|0|\n",
    "|010|0|\n",
    "|011|0|\n",
    "|100|1|\n",
    "|101|1|\n",
    "|110|1|\n",
    "|111|1|"
   ]
  },
  {
   "cell_type": "markdown",
   "id": "ongoing-delight",
   "metadata": {},
   "source": [
    "We call these functions the **oracle**.\n",
    "\n",
    "In the example, the oracle takes an input with 3 bits and outputs the unknown value.\n",
    "\n",
    "To get the answer to this problem in a classical world we may have the worst case scenario which includes testing the function $2^{(n-1)} + 1$ times.\n",
    "\n",
    "If the evaluations are sequential the worst case scenario needs $2^{(3-1)}+1=5$ tests.\n",
    "\n",
    "However, **the quantum case only needs one function evaluation**."
   ]
  },
  {
   "cell_type": "markdown",
   "id": "elder-priority",
   "metadata": {},
   "source": [
    "### Implementation\n",
    "\n",
    "Implement the balance function of the previous example.\n",
    "\n",
    "<img src=\"https://upload.wikimedia.org/wikipedia/commons/b/b5/Deutsch-Jozsa-algorithm-quantum-circuit.png\" alt=\"Note: In order for images to show up in this jupyter notebook you need to select File => Trusted Notebook\" width=\"400 px\" align=\"center\">"
   ]
  },
  {
   "cell_type": "code",
   "execution_count": 3,
   "id": "solid-decade",
   "metadata": {},
   "outputs": [],
   "source": [
    "# importing Qiskit\n",
    "from qiskit import Aer, IBMQ\n",
    "from qiskit import QuantumCircuit, ClassicalRegister, QuantumRegister\n",
    "from qiskit import execute, transpile\n",
    "\n",
    "from qiskit.tools.visualization import plot_histogram\n",
    "\n",
    "import matplotlib.pyplot as plt\n",
    "%matplotlib inline"
   ]
  },
  {
   "cell_type": "markdown",
   "id": "classified-forth",
   "metadata": {},
   "source": [
    "**1** Initialize the first  $n$  qubits with state  $0$  and a final qubit with state $1$.\n",
    "\n",
    "$$\\lvert \\psi_0 \\rangle = \\lvert 0\\rangle^{\\oplus n} \\lvert 1 \\rangle$$"
   ]
  },
  {
   "cell_type": "code",
   "execution_count": 2,
   "id": "quality-force",
   "metadata": {},
   "outputs": [],
   "source": [
    "# Create a quantum circuit with n+1 qubits and n bits\n",
    "n= 3\n",
    "\n",
    "qr = QuantumRegister(n+1) #tem de n+1 para conseguirmos distinguir melhor\n",
    "cr = ClassicalRegister(n)\n",
    "qc = QuantumCircuit(qr,cr)"
   ]
  },
  {
   "cell_type": "code",
   "execution_count": 3,
   "id": "talented-currency",
   "metadata": {},
   "outputs": [
    {
     "data": {
      "image/png": "[encoded data removed]",
      "text/plain": [
       "<Figure size 159.778x325.08 with 1 Axes>"
      ]
     },
     "execution_count": 3,
     "metadata": {},
     "output_type": "execute_result"
    }
   ],
   "source": [
    "qc.x(qr[n])\n",
    "\n",
    "qc.draw(output='mpl')"
   ]
  },
  {
   "cell_type": "markdown",
   "id": "associate-display",
   "metadata": {},
   "source": [
    "**2** Apply a Hadamard gate to each qubit $H^{\\oplus n+1}$.\n",
    "\n",
    "$$\\sum_x \\frac{\\lvert x \\rangle}{\\sqrt{2^n}} \\left[ \\frac{(\\lvert 0 \\rangle -\\lvert 1 \\rangle)}{\\sqrt{2}} \\right]$$"
   ]
  },
  {
   "cell_type": "code",
   "execution_count": 4,
   "id": "normal-tragedy",
   "metadata": {},
   "outputs": [
    {
     "data": {
      "image/png": "[encoded data removed]",
      "text/plain": [
       "<Figure size 219.978x325.08 with 1 Axes>"
      ]
     },
     "execution_count": 4,
     "metadata": {},
     "output_type": "execute_result"
    }
   ],
   "source": [
    "qc.h(qr)\n",
    "\n",
    "qc.draw(output='mpl')"
   ]
  },
  {
   "cell_type": "markdown",
   "id": "common-addition",
   "metadata": {},
   "source": [
    "**3** Apply the Oracle $f(x)$. \n",
    "\n",
    "This maps the state $\\lvert x \\rangle \\lvert y \\rangle $ to $ \\lvert x \\rangle \\lvert y \\rangle \\oplus f(x)\\rangle$\n",
    "\n",
    "$$ \\frac{1}{\\sqrt{2^{n+1}}} \\sum_x \\lvert x \\rangle (\\lvert f(x)\\rangle - \\lvert 1 \\oplus f(x)\\rangle )$$\n",
    "\n",
    "For each $x$, $f(x)$ is either $1$ or $0$ allowing us to rewrite the previews equation as:\n",
    "\n",
    "$$ \\sum_{x} \\frac{(-1)^{f(x)} \\lvert x \\rangle}{\\sqrt{2^n}} \\left[ \\frac{(\\lvert 0 \\rangle - \\lvert 1 \\rangle)}{\\sqrt{2}} \\right] $$"
   ]
  },
  {
   "cell_type": "code",
   "execution_count": 5,
   "id": "coupled-peoples",
   "metadata": {},
   "outputs": [
    {
     "data": {
      "image/png": "[encoded data removed]",
      "text/plain": [
       "<Figure size 400.578x325.08 with 1 Axes>"
      ]
     },
     "execution_count": 5,
     "metadata": {},
     "output_type": "execute_result"
    }
   ],
   "source": [
    "for x in range(n):\n",
    "    qc.cx(qr[x],qr[n])\n",
    "\n",
    "qc.draw(output='mpl')"
   ]
  },
  {
   "cell_type": "markdown",
   "id": "another-aviation",
   "metadata": {},
   "source": [
    "**4** Apply a Hadamard gate to the first $n$ qubits.\n",
    "\n",
    "$$\\sum_{x,y} \\frac{(-1)^{f(x) \\oplus (x\\cdot y)} \\lvert x \\rangle}{2^n} \\left[ \\frac{(\\lvert 0 \\rangle -\\lvert 1 \\rangle )}{\\sqrt{2}} \\right]$$"
   ]
  },
  {
   "cell_type": "code",
   "execution_count": 6,
   "id": "american-database",
   "metadata": {},
   "outputs": [
    {
     "data": {
      "image/png": "[encoded data removed]",
      "text/plain": [
       "<Figure size 460.778x325.08 with 1 Axes>"
      ]
     },
     "execution_count": 6,
     "metadata": {},
     "output_type": "execute_result"
    }
   ],
   "source": [
    "for x in range(n):\n",
    "    qc.h(qr[x])\n",
    "    \n",
    "qc.draw(output='mpl')"
   ]
  },
  {
   "cell_type": "markdown",
   "id": "material-brooklyn",
   "metadata": {},
   "source": [
    "**5** Measure the first $n$ qubits. The probability of measuring $\\lvert 0\\rangle \\oplus n$:\n",
    "\n",
    "$$ \\left| \\sum_x \\frac{(-1)^{f(x)}}{2^n} \\right| ^2 $$"
   ]
  },
  {
   "cell_type": "code",
   "execution_count": 7,
   "id": "immediate-exhibit",
   "metadata": {},
   "outputs": [
    {
     "data": {
      "image/png": "[encoded data removed]",
      "text/plain": [
       "<Figure size 641.378x325.08 with 1 Axes>"
      ]
     },
     "execution_count": 7,
     "metadata": {},
     "output_type": "execute_result"
    }
   ],
   "source": [
    "for x in range(n):\n",
    "    qc.measure(qr[x],cr[x])\n",
    "    \n",
    "qc.draw(output='mpl')"
   ]
  },
  {
   "cell_type": "markdown",
   "id": "gross-wings",
   "metadata": {},
   "source": [
    "Let’s start with some intuition of how this algorithm works, to do that we are going to recall one of the famous problems that classical physics could not explain,the double slit experiment.\n",
    "This experiment makes clear that some particles (like photons, protons or electrons) have a wave-like behavior, creating interference patterns.\n",
    "In other words, the probability of a particle hitting a specific detector depends on the type of interference in the path. If the interference is destructive the probability is small, and if it is constructive there is a high probability of hitting the detector.\n",
    "\n",
    "The Deutsch-Jozsa algorithm sees the constant function as the one that has constructive interference and the balanced one as the one with destructive interference.\n",
    "Therefore, we can expect to see a probability close to $100\\%$ when the function is constant and a different result from the balanced function.\n",
    "\n",
    "\n",
    "* When $f$ is constant the probability is $1$ (constructive interference);\n",
    "* When $f$ is balanced the probability is $0$ (destructive interference).\n",
    "\n",
    "In other words\n",
    "\n",
    "*  When $f$ is constant the measure will be $\\lvert 0 \\rangle^{\\otimes n}$;\n",
    "* When $f$ is balanced the measure will yield any other state."
   ]
  },
  {
   "cell_type": "code",
   "execution_count": 8,
   "id": "great-appeal",
   "metadata": {},
   "outputs": [],
   "source": [
    "backend = Aer.get_backend(\"qasm_simulator\")"
   ]
  },
  {
   "cell_type": "code",
   "execution_count": 9,
   "id": "underlying-evaluation",
   "metadata": {},
   "outputs": [
    {
     "data": {
      "image/png": "[encoded data removed]",
      "text/plain": [
       "<Figure size 504x360 with 1 Axes>"
      ]
     },
     "execution_count": 9,
     "metadata": {},
     "output_type": "execute_result"
    }
   ],
   "source": [
    "shots=1024\n",
    "result = execute(qc, backend, shots=shots).result()\n",
    "counts_sim = result.get_counts(qc)\n",
    "plot_histogram(counts_sim)"
   ]
  },
  {
   "cell_type": "markdown",
   "id": "informed-imaging",
   "metadata": {},
   "source": [
    "## 2. IBM Q Provider <a id='provider'></a>"
   ]
  },
  {
   "cell_type": "code",
   "execution_count": 10,
   "id": "adolescent-vancouver",
   "metadata": {},
   "outputs": [
    {
     "data": {
      "text/plain": [
       "[<IBMQSimulator('ibmq_qasm_simulator') from IBMQ(hub='ibm-q', group='open', project='main')>,\n",
       " <IBMQBackend('ibmqx2') from IBMQ(hub='ibm-q', group='open', project='main')>,\n",
       " <IBMQBackend('ibmq_16_melbourne') from IBMQ(hub='ibm-q', group='open', project='main')>,\n",
       " <IBMQBackend('ibmq_armonk') from IBMQ(hub='ibm-q', group='open', project='main')>,\n",
       " <IBMQBackend('ibmq_athens') from IBMQ(hub='ibm-q', group='open', project='main')>,\n",
       " <IBMQBackend('ibmq_santiago') from IBMQ(hub='ibm-q', group='open', project='main')>,\n",
       " <IBMQBackend('ibmq_lima') from IBMQ(hub='ibm-q', group='open', project='main')>,\n",
       " <IBMQBackend('ibmq_belem') from IBMQ(hub='ibm-q', group='open', project='main')>,\n",
       " <IBMQBackend('ibmq_quito') from IBMQ(hub='ibm-q', group='open', project='main')>,\n",
       " <IBMQSimulator('simulator_statevector') from IBMQ(hub='ibm-q', group='open', project='main')>,\n",
       " <IBMQSimulator('simulator_mps') from IBMQ(hub='ibm-q', group='open', project='main')>,\n",
       " <IBMQSimulator('simulator_extended_stabilizer') from IBMQ(hub='ibm-q', group='open', project='main')>,\n",
       " <IBMQSimulator('simulator_stabilizer') from IBMQ(hub='ibm-q', group='open', project='main')>]"
      ]
     },
     "execution_count": 10,
     "metadata": {},
     "output_type": "execute_result"
    }
   ],
   "source": [
    "provider = IBMQ.load_account()\n",
    "provider.backends()"
   ]
  },
  {
   "cell_type": "code",
   "execution_count": 11,
   "id": "clean-trader",
   "metadata": {},
   "outputs": [],
   "source": [
    "backends_list =provider.backends( simulator=False, open_pulse=False)"
   ]
  },
  {
   "cell_type": "code",
   "execution_count": 12,
   "id": "naked-third",
   "metadata": {},
   "outputs": [
    {
     "data": {
      "application/vnd.jupyter.widget-view+json": {
       "model_id": "74ab0ab29a4b4f3186471e1d785a9afa",
       "version_major": 2,
       "version_minor": 0
      },
      "text/plain": [
       "VBox(children=(HTML(value=\"<h2 style ='color:#ffffff; background-color:#000000;padding-top: 1%; padding-bottom…"
      ]
     },
     "metadata": {},
     "output_type": "display_data"
    }
   ],
   "source": [
    "# Backend overview\n",
    "import qiskit.tools.jupyter\n",
    "\n",
    "%qiskit_backend_overview"
   ]
  },
  {
   "cell_type": "code",
   "execution_count": 13,
   "id": "therapeutic-strike",
   "metadata": {},
   "outputs": [
    {
     "name": "stdout",
     "output_type": "stream",
     "text": [
      "ibmq_guadalupe               ibmq_casablanca             ibmq_manhattan\n",
      "--------------               ---------------             --------------\n",
      "Num. Qubits:  16             Num. Qubits:  7             Num. Qubits:  65\n",
      "Pending Jobs: 9              Pending Jobs: 0             Pending Jobs: 100\n",
      "Least busy:   False          Least busy:   True          Least busy:   False\n",
      "Operational:  True           Operational:  True          Operational:  True\n",
      "Avg. T1:      75.2           Avg. T1:      93.0          Avg. T1:      58.5\n",
      "Avg. T2:      87.7           Avg. T2:      96.6          Avg. T2:      73.1\n",
      "\n",
      "\n",
      "\n",
      "ibmq_bogota                  ibmq_toronto                 ibmq_rome\n",
      "-----------                  ------------                 ---------\n",
      "Num. Qubits:  5              Num. Qubits:  27             Num. Qubits:  5\n",
      "Pending Jobs: 107            Pending Jobs: 74             Pending Jobs: 2\n",
      "Least busy:   False          Least busy:   False          Least busy:   False\n",
      "Operational:  True           Operational:  True           Operational:  True\n",
      "Avg. T1:      124.0          Avg. T1:      106.8          Avg. T1:      87.6\n",
      "Avg. T2:      164.8          Avg. T2:      103.5          Avg. T2:      79.4\n",
      "\n",
      "\n",
      "\n",
      "ibmq_paris                   ibmq_quito                   ibmq_belem\n",
      "----------                   ----------                   ----------\n",
      "Num. Qubits:  27             Num. Qubits:  5              Num. Qubits:  5\n",
      "Pending Jobs: 1              Pending Jobs: 0              Pending Jobs: 43\n",
      "Least busy:   False          Least busy:   False          Least busy:   False\n",
      "Operational:  True           Operational:  True           Operational:  True\n",
      "Avg. T1:      76.9           Avg. T1:      67.6           Avg. T1:      90.7\n",
      "Avg. T2:      78.6           Avg. T2:      98.6           Avg. T2:      95.9\n",
      "\n",
      "\n",
      "\n",
      "ibmq_lima                    ibmq_santiago                ibmq_athens\n",
      "---------                    -------------                -----------\n",
      "Num. Qubits:  5              Num. Qubits:  5              Num. Qubits:  5\n",
      "Pending Jobs: 0              Pending Jobs: 1              Pending Jobs: 1\n",
      "Least busy:   False          Least busy:   False          Least busy:   False\n",
      "Operational:  True           Operational:  True           Operational:  True\n",
      "Avg. T1:      77.3           Avg. T1:      129.8          Avg. T1:      77.5\n",
      "Avg. T2:      77.4           Avg. T2:      102.5          Avg. T2:      111.6\n",
      "\n",
      "\n",
      "\n",
      "ibmq_armonk                  ibmq_16_melbourne            ibmqx2\n",
      "-----------                  -----------------            ------\n",
      "Num. Qubits:  1              Num. Qubits:  15             Num. Qubits:  5\n",
      "Pending Jobs: 5              Pending Jobs: 4              Pending Jobs: 1\n",
      "Least busy:   False          Least busy:   False          Least busy:   False\n",
      "Operational:  True           Operational:  True           Operational:  True\n",
      "Avg. T1:      159.6          Avg. T1:      54.6           Avg. T1:      59.6\n",
      "Avg. T2:      270.9          Avg. T2:      54.6           Avg. T2:      38.4\n",
      "\n",
      "\n",
      "\n"
     ]
    }
   ],
   "source": [
    "from qiskit.tools.monitor import backend_overview, backend_monitor\n",
    "\n",
    "backend_overview()"
   ]
  },
  {
   "cell_type": "markdown",
   "id": "shared-superintendent",
   "metadata": {},
   "source": [
    "**Fisrt Experience**"
   ]
  },
  {
   "cell_type": "code",
   "execution_count": 14,
   "id": "derived-disease",
   "metadata": {},
   "outputs": [
    {
     "name": "stdout",
     "output_type": "stream",
     "text": [
      "Running on current least busy device:  ibmq_athens\n"
     ]
    }
   ],
   "source": [
    "from qiskit.providers.ibmq import least_busy\n",
    "\n",
    "backend_device = least_busy(backends_list)\n",
    "print(\"Running on current least busy device: \", backend_device)"
   ]
  },
  {
   "cell_type": "code",
   "execution_count": 15,
   "id": "tutorial-trademark",
   "metadata": {},
   "outputs": [
    {
     "name": "stdout",
     "output_type": "stream",
     "text": [
      "ibmq_athens\n",
      "===========\n",
      "Configuration\n",
      "-------------\n",
      "    n_qubits: 5\n",
      "    operational: True\n",
      "    status_msg: active\n",
      "    pending_jobs: 0\n",
      "    backend_version: 1.3.17\n",
      "    basis_gates: ['id', 'rz', 'sx', 'x', 'cx', 'reset']\n",
      "    local: False\n",
      "    simulator: False\n",
      "    channels: {'acquire0': {'operates': {'qubits': [0]}, 'purpose': 'acquire', 'type': 'acquire'}, 'acquire1': {'operates': {'qubits': [1]}, 'purpose': 'acquire', 'type': 'acquire'}, 'acquire2': {'operates': {'qubits': [2]}, 'purpose': 'acquire', 'type': 'acquire'}, 'acquire3': {'operates': {'qubits': [3]}, 'purpose': 'acquire', 'type': 'acquire'}, 'acquire4': {'operates': {'qubits': [4]}, 'purpose': 'acquire', 'type': 'acquire'}, 'd0': {'operates': {'qubits': [0]}, 'purpose': 'drive', 'type': 'drive'}, 'd1': {'operates': {'qubits': [1]}, 'purpose': 'drive', 'type': 'drive'}, 'd2': {'operates': {'qubits': [2]}, 'purpose': 'drive', 'type': 'drive'}, 'd3': {'operates': {'qubits': [3]}, 'purpose': 'drive', 'type': 'drive'}, 'd4': {'operates': {'qubits': [4]}, 'purpose': 'drive', 'type': 'drive'}, 'm0': {'operates': {'qubits': [0]}, 'purpose': 'measure', 'type': 'measure'}, 'm1': {'operates': {'qubits': [1]}, 'purpose': 'measure', 'type': 'measure'}, 'm2': {'operates': {'qubits': [2]}, 'purpose': 'measure', 'type': 'measure'}, 'm3': {'operates': {'qubits': [3]}, 'purpose': 'measure', 'type': 'measure'}, 'm4': {'operates': {'qubits': [4]}, 'purpose': 'measure', 'type': 'measure'}, 'u0': {'operates': {'qubits': [0, 1]}, 'purpose': 'cross-resonance', 'type': 'control'}, 'u1': {'operates': {'qubits': [1, 0]}, 'purpose': 'cross-resonance', 'type': 'control'}, 'u2': {'operates': {'qubits': [1, 2]}, 'purpose': 'cross-resonance', 'type': 'control'}, 'u3': {'operates': {'qubits': [2, 1]}, 'purpose': 'cross-resonance', 'type': 'control'}, 'u4': {'operates': {'qubits': [2, 3]}, 'purpose': 'cross-resonance', 'type': 'control'}, 'u5': {'operates': {'qubits': [3, 2]}, 'purpose': 'cross-resonance', 'type': 'control'}, 'u6': {'operates': {'qubits': [3, 4]}, 'purpose': 'cross-resonance', 'type': 'control'}, 'u7': {'operates': {'qubits': [4, 3]}, 'purpose': 'cross-resonance', 'type': 'control'}}\n",
      "    meas_levels: [1, 2]\n",
      "    supported_instructions: ['reset', 'rz', 'cx', 'setf', 'u1', 'id', 'u2', 'x', 'acquire', 'u3', 'shiftf', 'delay', 'play', 'sx', 'measure']\n",
      "    parametric_pulses: ['gaussian', 'gaussian_square', 'drag', 'constant']\n",
      "    coupling_map: [[0, 1], [1, 0], [1, 2], [2, 1], [2, 3], [3, 2], [3, 4], [4, 3]]\n",
      "    qubit_channel_mapping: [['u0', 'd0', 'u1', 'm0'], ['m1', 'u1', 'u2', 'u0', 'd1', 'u3'], ['m2', 'u4', 'u2', 'u3', 'd2', 'u5'], ['u4', 'm3', 'u7', 'u6', 'd3', 'u5'], ['u6', 'u7', 'd4', 'm4']]\n",
      "    conditional: False\n",
      "    qubit_lo_range: [[4.675382974689248e+18, 5.675382974689248e+18], [4.767213295145883e+18, 5.767213295145883e+18], [4.5524532861239557e+18, 5.552453286123956e+18], [4.3559613036110095e+18, 5.35596130361101e+18], [4.61853771522299e+18, 5.61853771522299e+18]]\n",
      "    backend_name: ibmq_athens\n",
      "    discriminators: ['hw_qmfk', 'quadratic_discriminator', 'linear_discriminator']\n",
      "    n_uchannels: 8\n",
      "    acquisition_latency: []\n",
      "    dtm: 2.222222222222222e-19\n",
      "    memory: True\n",
      "    dynamic_reprate_enabled: True\n",
      "    description: 5 qubit device\n",
      "    n_registers: 1\n",
      "    max_experiments: 75\n",
      "    uchannels_enabled: True\n",
      "    credits_required: True\n",
      "    conditional_latency: []\n",
      "    dt: 2.222222222222222e-19\n",
      "    processor_type: {'family': 'Falcon', 'revision': 4, 'segment': 'L'}\n",
      "    default_rep_delay: 250.0\n",
      "    quantum_volume: 32\n",
      "    rep_delay_range: [0.0, 500.0]\n",
      "    sample_name: family: Falcon, revision: 4, segment: L\n",
      "    meas_map: [[0, 1, 2, 3, 4]]\n",
      "    online_date: 2020-03-13 04:00:00+00:00\n",
      "    url: None\n",
      "    multi_meas_enabled: True\n",
      "    allow_object_storage: True\n",
      "    meas_kernels: ['hw_qmfk']\n",
      "    meas_lo_range: [[6.714107437e+18, 7.714107437e+18], [6.860372122e+18, 7.860372122e+18], [6.798419517e+18, 7.798419517e+18], [6.663115298e+18, 7.663115298e+18], [6.911673028e+18, 7.911673028e+18]]\n",
      "    rep_times: [0.001]\n",
      "    u_channel_lo: [[{'q': 1, 'scale': (1+0j)}], [{'q': 0, 'scale': (1+0j)}], [{'q': 2, 'scale': (1+0j)}], [{'q': 1, 'scale': (1+0j)}], [{'q': 3, 'scale': (1+0j)}], [{'q': 2, 'scale': (1+0j)}], [{'q': 4, 'scale': (1+0j)}], [{'q': 3, 'scale': (1+0j)}]]\n",
      "    allow_q_object: True\n",
      "    hamiltonian: {'description': 'Qubits are modeled as Duffing oscillators. In this case, the system includes higher energy states, i.e. not just |0> and |1>. The Pauli operators are generalized via the following set of transformations:\\n\\n$(\\\\mathbb{I}-\\\\sigma_{i}^z)/2 \\\\rightarrow O_i \\\\equiv b^\\\\dagger_{i} b_{i}$,\\n\\n$\\\\sigma_{+} \\\\rightarrow b^\\\\dagger$,\\n\\n$\\\\sigma_{-} \\\\rightarrow b$,\\n\\n$\\\\sigma_{i}^X \\\\rightarrow b^\\\\dagger_{i} + b_{i}$.\\n\\nQubits are coupled through resonator buses. The provided Hamiltonian has been projected into the zero excitation subspace of the resonator buses leading to an effective qubit-qubit flip-flop interaction. The qubit resonance frequencies in the Hamiltonian are the cavity dressed frequencies and not exactly what is returned by the backend defaults, which also includes the dressing due to the qubit-qubit interactions.\\n\\nQuantities are returned in angular frequencies, with units 2*pi*GHz.\\n\\nWARNING: Currently not all system Hamiltonian information is available to the public, missing values have been replaced with 0.\\n', 'h_latex': '\\\\begin{align} \\\\mathcal{H}/\\\\hbar = & \\\\sum_{i=0}^{4}\\\\left(\\\\frac{\\\\omega_{q,i}}{2}(\\\\mathbb{I}-\\\\sigma_i^{z})+\\\\frac{\\\\Delta_{i}}{2}(O_i^2-O_i)+\\\\Omega_{d,i}D_i(t)\\\\sigma_i^{X}\\\\right) \\\\\\\\ & + J_{1,2}(\\\\sigma_{1}^{+}\\\\sigma_{2}^{-}+\\\\sigma_{1}^{-}\\\\sigma_{2}^{+}) + J_{3,4}(\\\\sigma_{3}^{+}\\\\sigma_{4}^{-}+\\\\sigma_{3}^{-}\\\\sigma_{4}^{+}) + J_{0,1}(\\\\sigma_{0}^{+}\\\\sigma_{1}^{-}+\\\\sigma_{0}^{-}\\\\sigma_{1}^{+}) + J_{2,3}(\\\\sigma_{2}^{+}\\\\sigma_{3}^{-}+\\\\sigma_{2}^{-}\\\\sigma_{3}^{+}) \\\\\\\\ & + \\\\Omega_{d,0}(U_{0}^{(0,1)}(t))\\\\sigma_{0}^{X} + \\\\Omega_{d,1}(U_{1}^{(1,0)}(t)+U_{2}^{(1,2)}(t))\\\\sigma_{1}^{X} \\\\\\\\ & + \\\\Omega_{d,2}(U_{3}^{(2,1)}(t)+U_{4}^{(2,3)}(t))\\\\sigma_{2}^{X} + \\\\Omega_{d,3}(U_{6}^{(3,4)}(t)+U_{5}^{(3,2)}(t))\\\\sigma_{3}^{X} \\\\\\\\ & + \\\\Omega_{d,4}(U_{7}^{(4,3)}(t))\\\\sigma_{4}^{X} \\\\\\\\ \\\\end{align}', 'h_str': ['_SUM[i,0,4,wq{i}/2*(I{i}-Z{i})]', '_SUM[i,0,4,delta{i}/2*O{i}*O{i}]', '_SUM[i,0,4,-delta{i}/2*O{i}]', '_SUM[i,0,4,omegad{i}*X{i}||D{i}]', 'jq1q2*Sp1*Sm2', 'jq1q2*Sm1*Sp2', 'jq3q4*Sp3*Sm4', 'jq3q4*Sm3*Sp4', 'jq0q1*Sp0*Sm1', 'jq0q1*Sm0*Sp1', 'jq2q3*Sp2*Sm3', 'jq2q3*Sm2*Sp3', 'omegad1*X0||U0', 'omegad0*X1||U1', 'omegad2*X1||U2', 'omegad1*X2||U3', 'omegad3*X2||U4', 'omegad4*X3||U6', 'omegad2*X3||U5', 'omegad3*X4||U7'], 'osc': {}, 'qub': {'0': 3, '1': 3, '2': 3, '3': 3, '4': 3}, 'vars': {'delta0': -2.1117934764003934, 'delta1': -2.0894421352015744, 'delta2': -2.1179183671068604, 'delta3': -2.0410045431261215, 'delta4': -2.1119885565086776, 'jq0q1': 0.010495754104003914, 'jq1q2': 0.01078171551120001, 'jq2q3': 0.008920779377814226, 'jq3q4': 0.008985191651087791, 'omegad0': 0.9724608685669829, 'omegad1': 0.9802565218530241, 'omegad2': 0.9495357568673737, 'omegad3': 0.975173548615589, 'omegad4': 0.9842239512245005, 'wq0': 32.517890265594865, 'wq1': 33.09487718584158, 'wq2': 31.74550025258526, 'wq3': 30.510904715081328, 'wq4': 32.16072096653366}}\n",
      "    open_pulse: False\n",
      "    max_shots: 8192\n",
      "\n",
      "Qubits [Name / Freq / T1 / T2 / RZ err / SX err / X err / Readout err]\n",
      "----------------------------------------------------------------------\n",
      "    Q0 / 5.17538 GHz / 71.70586 us / 118.60385 us / 0.00000 / 0.00050 / 0.00050 / 0.01040 \n",
      "    Q1 / 5.26721 GHz / 76.18117 us / 118.80524 us / 0.00000 / 0.00030 / 0.00030 / 0.01020 \n",
      "    Q2 / 5.05245 GHz / 85.96441 us / 148.03378 us / 0.00000 / 0.00039 / 0.00039 / 0.01530 \n",
      "    Q3 / 4.85596 GHz / 57.25869 us / 26.62207 us / 0.00000 / 0.00114 / 0.00114 / 0.16130 \n",
      "    Q4 / 5.11854 GHz / 96.17960 us / 145.91363 us / 0.00000 / 0.00022 / 0.00022 / 0.01360 \n",
      "\n",
      "Multi-Qubit Gates [Name / Type / Gate Error]\n",
      "--------------------------------------------\n",
      "    cx4_3 / cx / 0.00753\n",
      "    cx3_4 / cx / 0.00753\n",
      "    cx2_3 / cx / 0.01219\n",
      "    cx3_2 / cx / 0.01219\n",
      "    cx1_2 / cx / 0.00898\n",
      "    cx2_1 / cx / 0.00898\n",
      "    cx1_0 / cx / 0.01211\n",
      "    cx0_1 / cx / 0.01211\n"
     ]
    }
   ],
   "source": [
    "backend_monitor(backend_device)"
   ]
  },
  {
   "cell_type": "raw",
   "id": "controlled-vertex",
   "metadata": {},
   "source": [
    "# backend_device = provider.get_backend('ibmq_16_melbourne')\n",
    "print(\"Running on: \", backend_device)"
   ]
  },
  {
   "cell_type": "code",
   "execution_count": 18,
   "id": "bridal-buffer",
   "metadata": {},
   "outputs": [
    {
     "data": {
      "application/vnd.jupyter.widget-view+json": {
       "model_id": "1938f9d8f0664feea271e65684f2c002",
       "version_major": 2,
       "version_minor": 0
      },
      "text/plain": [
       "VBox(children=(HTML(value=\"<h1 style='color:#ffffff;background-color:#000000;padding-top: 1%;padding-bottom: 1…"
      ]
     },
     "metadata": {},
     "output_type": "display_data"
    },
    {
     "data": {
      "text/plain": [
       "<IBMQBackend('ibmq_athens') from IBMQ(hub='ibm-q', group='open', project='main')>"
      ]
     },
     "execution_count": 18,
     "metadata": {},
     "output_type": "execute_result"
    }
   ],
   "source": [
    "# See backend information\n",
    "backend_device"
   ]
  },
  {
   "cell_type": "raw",
   "id": "meaningful-moses",
   "metadata": {},
   "source": [
    "backend_monitor(backend_device)"
   ]
  },
  {
   "cell_type": "code",
   "execution_count": 17,
   "id": "conservative-denmark",
   "metadata": {},
   "outputs": [
    {
     "data": {
      "application/vnd.jupyter.widget-view+json": {
       "model_id": "",
       "version_major": 2,
       "version_minor": 0
      },
      "text/plain": [
       "Accordion(children=(VBox(layout=Layout(max_width='710px', min_width='710px')),), layout=Layout(max_height='500…"
      ]
     },
     "metadata": {},
     "output_type": "display_data"
    },
    {
     "data": {
      "application/javascript": [
       "$('div.job_widget')\n",
       "        .detach()\n",
       "        .appendTo($('#header'))\n",
       "        .css({\n",
       "            'z-index': 999,\n",
       "             'position': 'fixed',\n",
       "            'box-shadow': '5px 5px 5px -3px black',\n",
       "            'opacity': 0.95,\n",
       "            'float': 'left,'\n",
       "        })\n",
       "        "
      ],
      "text/plain": [
       "<IPython.core.display.Javascript object>"
      ]
     },
     "metadata": {},
     "output_type": "display_data"
    }
   ],
   "source": [
    "%qiskit_job_watcher"
   ]
  },
  {
   "cell_type": "code",
   "execution_count": 19,
   "id": "floppy-baseball",
   "metadata": {},
   "outputs": [
    {
     "name": "stdout",
     "output_type": "stream",
     "text": [
      "JOB ID: 6098e2a1de9ce0e431599813\n"
     ]
    }
   ],
   "source": [
    "job_DJ_r = execute(qc, backend_device, shots=shots)\n",
    "\n",
    "jobID_DJ_r = job_DJ_r.job_id()\n",
    "\n",
    "print('JOB ID: {}'.format(jobID_DJ_r))"
   ]
  },
  {
   "cell_type": "code",
   "execution_count": 20,
   "id": "alternate-harris",
   "metadata": {},
   "outputs": [],
   "source": [
    "job_get=backend_device.retrieve_job(\"6098e2a1de9ce0e431599813\")\n",
    "\n",
    "result_DJ_r = job_get.result()\n",
    "counts_DJ_run = result_DJ_r.get_counts(qc)"
   ]
  },
  {
   "cell_type": "code",
   "execution_count": 21,
   "id": "induced-ghana",
   "metadata": {},
   "outputs": [
    {
     "data": {
      "image/png": "[encoded data removed]",
      "text/plain": [
       "<Figure size 504x360 with 1 Axes>"
      ]
     },
     "execution_count": 21,
     "metadata": {},
     "output_type": "execute_result"
    }
   ],
   "source": [
    "plot_histogram([counts_DJ_run, counts_sim ], legend=[ 'run in real device', 'ideal'], color=['#061727','#82cfff'])"
   ]
  },
  {
   "cell_type": "markdown",
   "id": "fiscal-going",
   "metadata": {},
   "source": [
    "### Optimize"
   ]
  },
  {
   "cell_type": "code",
   "execution_count": 22,
   "id": "architectural-adelaide",
   "metadata": {},
   "outputs": [
    {
     "data": {
      "image/png": "[encoded data removed]",
      "text/plain": [
       "<Figure size 811.92x192.64 with 1 Axes>"
      ]
     },
     "execution_count": 22,
     "metadata": {},
     "output_type": "execute_result"
    }
   ],
   "source": [
    "from qiskit.compiler import transpile\n",
    "\n",
    "qc_t_real = transpile(qc, backend=backend_device)\n",
    "\n",
    "qc_t_real.draw(output='mpl', scale=0.5)"
   ]
  },
  {
   "cell_type": "code",
   "execution_count": 29,
   "id": "detected-world",
   "metadata": {},
   "outputs": [
    {
     "data": {
      "image/png": "[encoded data removed]",
      "text/plain": [
       "<Figure size 571.12x192.64 with 1 Axes>"
      ]
     },
     "execution_count": 29,
     "metadata": {},
     "output_type": "execute_result"
    }
   ],
   "source": [
    "qc_optimized = transpile(qc, backend=backend_device, optimization_level=2)\n",
    "qc_optimized.draw(output='mpl', scale=0.5)"
   ]
  },
  {
   "cell_type": "code",
   "execution_count": 24,
   "id": "efficient-southeast",
   "metadata": {},
   "outputs": [
    {
     "data": {
      "text/plain": [
       "7"
      ]
     },
     "execution_count": 24,
     "metadata": {},
     "output_type": "execute_result"
    }
   ],
   "source": [
    "qc.depth()"
   ]
  },
  {
   "cell_type": "code",
   "execution_count": 30,
   "id": "caring-label",
   "metadata": {},
   "outputs": [
    {
     "data": {
      "text/plain": [
       "21"
      ]
     },
     "execution_count": 30,
     "metadata": {},
     "output_type": "execute_result"
    }
   ],
   "source": [
    "qc_t_real.depth()"
   ]
  },
  {
   "cell_type": "code",
   "execution_count": 31,
   "id": "periodic-hamilton",
   "metadata": {},
   "outputs": [
    {
     "data": {
      "image/png": "[encoded data removed]",
      "text/plain": [
       "<Figure size 360x360 with 1 Axes>"
      ]
     },
     "execution_count": 31,
     "metadata": {},
     "output_type": "execute_result"
    }
   ],
   "source": [
    "from qiskit.visualization import plot_circuit_layout\n",
    "plot_circuit_layout(qc_t_real, backend_device)"
   ]
  },
  {
   "cell_type": "code",
   "execution_count": 32,
   "id": "occasional-bradford",
   "metadata": {},
   "outputs": [
    {
     "data": {
      "text/plain": [
       "13"
      ]
     },
     "execution_count": 32,
     "metadata": {},
     "output_type": "execute_result"
    }
   ],
   "source": [
    "qc_optimized.depth()"
   ]
  },
  {
   "cell_type": "code",
   "execution_count": 33,
   "id": "assisted-burton",
   "metadata": {},
   "outputs": [
    {
     "data": {
      "image/png": "[encoded data removed]",
      "text/plain": [
       "<Figure size 360x360 with 1 Axes>"
      ]
     },
     "execution_count": 33,
     "metadata": {},
     "output_type": "execute_result"
    }
   ],
   "source": [
    "plot_circuit_layout(qc_optimized, backend_device)"
   ]
  },
  {
   "cell_type": "code",
   "execution_count": 34,
   "id": "liberal-george",
   "metadata": {},
   "outputs": [
    {
     "name": "stdout",
     "output_type": "stream",
     "text": [
      "JOB ID: 6098e3123e5b942fa65b452c\n"
     ]
    },
    {
     "data": {
      "text/plain": [
       "{'000': 10, '001': 3, '011': 23, '100': 33, '101': 52, '110': 40, '111': 863}"
      ]
     },
     "execution_count": 34,
     "metadata": {},
     "output_type": "execute_result"
    }
   ],
   "source": [
    "job_exp = execute(qc_optimized, backend_device, shots = shots)\n",
    "\n",
    "# job_id allows you to retrive old jobs\n",
    "jobID = job_exp.job_id()\n",
    "\n",
    "print('JOB ID: {}'.format(jobID))\n",
    "\n",
    "job_exp.result().get_counts(qc_optimized)"
   ]
  },
  {
   "cell_type": "code",
   "execution_count": 35,
   "id": "indonesian-sister",
   "metadata": {},
   "outputs": [],
   "source": [
    "%qiskit_disable_job_watcher"
   ]
  },
  {
   "cell_type": "code",
   "execution_count": 36,
   "id": "yellow-radar",
   "metadata": {},
   "outputs": [],
   "source": [
    "#with optimization 2\n",
    "job_get_o=backend_device.retrieve_job(\"6098e3123e5b942fa65b452c\")\n",
    "\n",
    "result_real_o = job_get_o.result(timeout=3600, wait=5)\n",
    "\n",
    "counts_opt = result_real_o.get_counts(qc_optimized)"
   ]
  },
  {
   "cell_type": "code",
   "execution_count": 38,
   "id": "experimental-pasta",
   "metadata": {},
   "outputs": [
    {
     "data": {
      "image/png": "[encoded data removed]",
      "text/plain": [
       "<Figure size 1080x360 with 1 Axes>"
      ]
     },
     "execution_count": 38,
     "metadata": {},
     "output_type": "execute_result"
    }
   ],
   "source": [
    "title = 'DJ'\n",
    "legend = [ 'simulation results','run in real device results', 'optimized circuit']\n",
    "color = ['#6ea6ff','#051243','#054ada']\n",
    "\n",
    "plot_histogram([counts_sim, counts_DJ_run, counts_opt], legend = legend, title= title, color=color, figsize=(15, 5))"
   ]
  },
  {
   "cell_type": "markdown",
   "id": "infectious-virtue",
   "metadata": {},
   "source": [
    "**Refs**\n",
    "\n",
    "* [Deutsch-Josza Algorithm - Qiskit](https://qiskit.org/textbook/ch-algorithms/deutsch-josza.html)\n",
    "* [Lesson 38 Quantum Computing, Deutsch's Problem](https://www.youtube.com/watch?v=5xsyx-aNClM)"
   ]
  },
  {
   "cell_type": "markdown",
   "id": "forbidden-raleigh",
   "metadata": {},
   "source": [
    "## 3. Exercises <a id ='exercises'></a>"
   ]
  },
  {
   "cell_type": "markdown",
   "id": "exciting-operator",
   "metadata": {},
   "source": [
    "**1** Initialize the first  $n$  qubits with state  $0$  and a final qubit with state $1$.\n",
    "\n",
    "$$\\lvert \\psi_0 \\rangle = \\lvert 0\\rangle^{\\oplus n} \\lvert 1 \\rangle$$"
   ]
  },
  {
   "cell_type": "code",
   "execution_count": 4,
   "id": "primary-dodge",
   "metadata": {},
   "outputs": [],
   "source": [
    "# Create a quantum circuit with n+1 qubits and n bits\n",
    "n= 3\n",
    "\n",
    "qr = QuantumRegister(n+1)\n",
    "cr = ClassicalRegister(n)\n",
    "qc = QuantumCircuit(qr,cr)"
   ]
  },
  {
   "cell_type": "code",
   "execution_count": 5,
   "id": "alleged-choir",
   "metadata": {},
   "outputs": [
    {
     "data": {
      "image/png": "[encoded data removed]",
      "text/plain": [
       "<Figure size 159.778x325.08 with 1 Axes>"
      ]
     },
     "execution_count": 5,
     "metadata": {},
     "output_type": "execute_result"
    }
   ],
   "source": [
    "qc.x(qr[n])\n",
    "qc.draw(output='mpl')"
   ]
  },
  {
   "cell_type": "markdown",
   "id": "stretch-sheffield",
   "metadata": {},
   "source": [
    "**2** Apply a Hadamard gate to each qubit $H^{\\oplus n+1}$.\n",
    "\n",
    "$$\\sum_x \\frac{\\lvert x \\rangle}{\\sqrt{2^n}} \\left[ \\frac{(\\lvert 0 \\rangle -\\lvert 1 \\rangle)}{\\sqrt{2}} \\right]$$"
   ]
  },
  {
   "cell_type": "code",
   "execution_count": 6,
   "id": "dramatic-kidney",
   "metadata": {},
   "outputs": [
    {
     "data": {
      "image/png": "[encoded data removed]",
      "text/plain": [
       "<Figure size 219.978x325.08 with 1 Axes>"
      ]
     },
     "execution_count": 6,
     "metadata": {},
     "output_type": "execute_result"
    }
   ],
   "source": [
    "qc.h(qr)\n",
    "qc.draw(output='mpl')"
   ]
  },
  {
   "cell_type": "markdown",
   "id": "infinite-mumbai",
   "metadata": {},
   "source": [
    "**3** Apply the Oracle $f(x)$. \n",
    "\n",
    "This maps the state $\\lvert x \\rangle \\lvert y \\rangle $ to $ \\lvert x \\rangle \\lvert y \\rangle \\oplus f(x)\\rangle$\n",
    "\n",
    "$$ \\frac{1}{\\sqrt{2^{n+1}}} \\sum_x \\lvert x \\rangle (\\lvert f(x)\\rangle - \\lvert 1 \\oplus f(x)\\rangle )$$\n",
    "\n",
    "For each $x$, $f(x)$ is either $1$ or $0$ allowing us to rewrite the previews equation as:\n",
    "\n",
    "$$ \\sum_{x} \\frac{(-1)^{f(x)} \\lvert x \\rangle}{\\sqrt{2^n}} \\left[ \\frac{(\\lvert 0 \\rangle - \\lvert 1 \\rangle)}{\\sqrt{2}} \\right] $$"
   ]
  },
  {
   "cell_type": "markdown",
   "id": "patient-mountain",
   "metadata": {},
   "source": [
    "**3.1 - What is the oracle of the contant function?**\n",
    "\n",
    "**3.2- Why?**\n",
    "\n",
    " [Tip](https://qiskit.org/textbook/ch-algorithms/deutsch-josza.html#3.-Creating-Quantum-Oracles--)"
   ]
  },
  {
   "cell_type": "raw",
   "id": "varied-culture",
   "metadata": {},
   "source": []
  },
  {
   "cell_type": "code",
   "execution_count": 7,
   "id": "talented-calculation",
   "metadata": {},
   "outputs": [
    {
     "data": {
      "image/png": "[encoded data removed]",
      "text/plain": [
       "<Figure size 400.578x325.08 with 1 Axes>"
      ]
     },
     "execution_count": 7,
     "metadata": {},
     "output_type": "execute_result"
    }
   ],
   "source": [
    "for x in range(n):\n",
    "    qc.cx(qr[x],qr[n])\n",
    "\n",
    "qc.draw(output='mpl')"
   ]
  },
  {
   "cell_type": "markdown",
   "id": "italic-weight",
   "metadata": {},
   "source": [
    "**4** Apply a Hadamard gate to the first $n$ qubits.\n",
    "\n",
    "$$\\sum_{x,y} \\frac{(-1)^{f(x) \\oplus (x\\cdot y)} \\lvert x \\rangle}{2^n} \\left[ \\frac{(\\lvert 0 \\rangle -\\lvert 1 \\rangle )}{\\sqrt{2}} \\right]$$"
   ]
  },
  {
   "cell_type": "code",
   "execution_count": 8,
   "id": "outdoor-judgment",
   "metadata": {},
   "outputs": [
    {
     "data": {
      "image/png": "[encoded data removed]",
      "text/plain": [
       "<Figure size 460.778x325.08 with 1 Axes>"
      ]
     },
     "execution_count": 8,
     "metadata": {},
     "output_type": "execute_result"
    }
   ],
   "source": [
    "for x in range(n):\n",
    "    qc.h(qr[x])\n",
    "    \n",
    "qc.draw(output='mpl')"
   ]
  },
  {
   "cell_type": "markdown",
   "id": "suited-sacrifice",
   "metadata": {},
   "source": [
    "**5** Measure the first $n$ qubits. The probability of measuring $\\lvert 0\\rangle \\oplus n$:\n",
    "\n",
    "$$ \\left| \\sum_x \\frac{(-1)^{f(x)}}{2^n} \\right| ^2 $$"
   ]
  },
  {
   "cell_type": "code",
   "execution_count": 9,
   "id": "cubic-commitment",
   "metadata": {},
   "outputs": [
    {
     "data": {
      "image/png": "[encoded data removed]",
      "text/plain": [
       "<Figure size 641.378x325.08 with 1 Axes>"
      ]
     },
     "execution_count": 9,
     "metadata": {},
     "output_type": "execute_result"
    }
   ],
   "source": [
    "for x in range(n):\n",
    "    qc.measure(qr[x],cr[x]) \n",
    "qc.draw(output='mpl')"
   ]
  },
  {
   "cell_type": "markdown",
   "id": "broke-password",
   "metadata": {},
   "source": [
    "*  When $f$ is constant the measure will be $\\lvert 0 \\rangle^{\\otimes n}$;\n",
    "* When $f$ is balanced the measure will yield any other state."
   ]
  },
  {
   "cell_type": "code",
   "execution_count": 10,
   "id": "generous-communication",
   "metadata": {},
   "outputs": [],
   "source": [
    "backend = Aer.get_backend(\"qasm_simulator\")"
   ]
  },
  {
   "cell_type": "code",
   "execution_count": 11,
   "id": "median-installation",
   "metadata": {},
   "outputs": [
    {
     "data": {
      "image/png": "[encoded data removed]",
      "text/plain": [
       "<Figure size 504x360 with 1 Axes>"
      ]
     },
     "execution_count": 11,
     "metadata": {},
     "output_type": "execute_result"
    }
   ],
   "source": [
    "shots=1024\n",
    "result = execute(qc, backend, shots=shots).result()\n",
    "counts_sim = result.get_counts(qc)\n",
    "plot_histogram(counts_sim)"
   ]
  },
  {
   "cell_type": "markdown",
   "id": "public-silly",
   "metadata": {},
   "source": [
    "#### IBM Q Provider"
   ]
  },
  {
   "cell_type": "code",
   "execution_count": 12,
   "id": "nonprofit-korea",
   "metadata": {},
   "outputs": [
    {
     "data": {
      "text/plain": [
       "[<IBMQSimulator('ibmq_qasm_simulator') from IBMQ(hub='ibm-q', group='open', project='main')>,\n",
       " <IBMQBackend('ibmqx2') from IBMQ(hub='ibm-q', group='open', project='main')>,\n",
       " <IBMQBackend('ibmq_16_melbourne') from IBMQ(hub='ibm-q', group='open', project='main')>,\n",
       " <IBMQBackend('ibmq_armonk') from IBMQ(hub='ibm-q', group='open', project='main')>,\n",
       " <IBMQBackend('ibmq_athens') from IBMQ(hub='ibm-q', group='open', project='main')>,\n",
       " <IBMQBackend('ibmq_santiago') from IBMQ(hub='ibm-q', group='open', project='main')>,\n",
       " <IBMQBackend('ibmq_lima') from IBMQ(hub='ibm-q', group='open', project='main')>,\n",
       " <IBMQBackend('ibmq_belem') from IBMQ(hub='ibm-q', group='open', project='main')>,\n",
       " <IBMQBackend('ibmq_quito') from IBMQ(hub='ibm-q', group='open', project='main')>,\n",
       " <IBMQSimulator('simulator_statevector') from IBMQ(hub='ibm-q', group='open', project='main')>,\n",
       " <IBMQSimulator('simulator_mps') from IBMQ(hub='ibm-q', group='open', project='main')>,\n",
       " <IBMQSimulator('simulator_extended_stabilizer') from IBMQ(hub='ibm-q', group='open', project='main')>,\n",
       " <IBMQSimulator('simulator_stabilizer') from IBMQ(hub='ibm-q', group='open', project='main')>]"
      ]
     },
     "execution_count": 12,
     "metadata": {},
     "output_type": "execute_result"
    }
   ],
   "source": [
    "provider = IBMQ.load_account()\n",
    "provider.backends()"
   ]
  },
  {
   "cell_type": "code",
   "execution_count": 13,
   "id": "hungarian-american",
   "metadata": {},
   "outputs": [],
   "source": [
    "backends_list =provider.backends( simulator=False, open_pulse=False)"
   ]
  },
  {
   "cell_type": "code",
   "execution_count": 18,
   "id": "fresh-nerve",
   "metadata": {},
   "outputs": [
    {
     "data": {
      "application/vnd.jupyter.widget-view+json": {
       "model_id": "445e687e44e742b9811c6a564e320f20",
       "version_major": 2,
       "version_minor": 0
      },
      "text/plain": [
       "VBox(children=(HTML(value=\"<h2 style ='color:#ffffff; background-color:#000000;padding-top: 1%; padding-bottom…"
      ]
     },
     "metadata": {},
     "output_type": "display_data"
    }
   ],
   "source": [
    "# Backend overview\n",
    "import qiskit.tools.jupyter\n",
    "\n",
    "%qiskit_backend_overview"
   ]
  },
  {
   "cell_type": "code",
   "execution_count": 19,
   "id": "intended-prophet",
   "metadata": {},
   "outputs": [
    {
     "name": "stdout",
     "output_type": "stream",
     "text": [
      "ibmq_quito                   ibmq_belem                   ibmq_lima\n",
      "----------                   ----------                   ---------\n",
      "Num. Qubits:  5              Num. Qubits:  5              Num. Qubits:  5\n",
      "Pending Jobs: 28             Pending Jobs: 50             Pending Jobs: 16\n",
      "Least busy:   False          Least busy:   False          Least busy:   False\n",
      "Operational:  True           Operational:  True           Operational:  True\n",
      "Avg. T1:      80.2           Avg. T1:      74.3           Avg. T1:      72.8\n",
      "Avg. T2:      116.6          Avg. T2:      91.2           Avg. T2:      66.0\n",
      "\n",
      "\n",
      "\n",
      "ibmq_santiago                ibmq_athens                  ibmq_armonk\n",
      "-------------                -----------                  -----------\n",
      "Num. Qubits:  5              Num. Qubits:  5              Num. Qubits:  1\n",
      "Pending Jobs: 36             Pending Jobs: 20             Pending Jobs: 0\n",
      "Least busy:   False          Least busy:   False          Least busy:   True\n",
      "Operational:  True           Operational:  True           Operational:  True\n",
      "Avg. T1:      126.8          Avg. T1:      88.0           Avg. T1:      195.2\n",
      "Avg. T2:      125.1          Avg. T2:      103.1          Avg. T2:      226.3\n",
      "\n",
      "\n",
      "\n",
      "ibmq_16_melbourne            ibmqx2\n",
      "-----------------            ------\n",
      "Num. Qubits:  15             Num. Qubits:  5\n",
      "Pending Jobs: 29             Pending Jobs: 330\n",
      "Least busy:   False          Least busy:   False\n",
      "Operational:  True           Operational:  True\n",
      "Avg. T1:      52.3           Avg. T1:      55.3\n",
      "Avg. T2:      50.9           Avg. T2:      37.3\n",
      "\n",
      "\n",
      "\n"
     ]
    }
   ],
   "source": [
    "from qiskit.tools.monitor import backend_overview, backend_monitor\n",
    "\n",
    "backend_overview()"
   ]
  },
  {
   "cell_type": "code",
   "execution_count": 26,
   "id": "upper-pharmacology",
   "metadata": {},
   "outputs": [
    {
     "name": "stdout",
     "output_type": "stream",
     "text": [
      "Running on :  ibmq_lima\n"
     ]
    }
   ],
   "source": [
    "from qiskit.providers.ibmq import least_busy\n",
    "\n",
    "#backend_device = provider.get_backend('ibmq_armonk')\n",
    "backend_device = least_busy(backends_list)\n",
    "\n",
    "print(\"Running on : \", backend_device)"
   ]
  },
  {
   "cell_type": "markdown",
   "id": "mineral-handbook",
   "metadata": {},
   "source": [
    "**6 - why did you select this device?**"
   ]
  },
  {
   "cell_type": "raw",
   "id": "familiar-boundary",
   "metadata": {},
   "source": [
    "Baseie-me naquele que estava menos ocupado. Mas podiamos basearnos naquele que tem menos ruído como por exemplo o ibmq_armonk."
   ]
  },
  {
   "cell_type": "code",
   "execution_count": 27,
   "id": "thorough-establishment",
   "metadata": {},
   "outputs": [
    {
     "data": {
      "application/vnd.jupyter.widget-view+json": {
       "model_id": "c74b61a516bb40609de3f9229aacc805",
       "version_major": 2,
       "version_minor": 0
      },
      "text/plain": [
       "VBox(children=(HTML(value=\"<h1 style='color:#ffffff;background-color:#000000;padding-top: 1%;padding-bottom: 1…"
      ]
     },
     "metadata": {},
     "output_type": "display_data"
    },
    {
     "data": {
      "text/plain": [
       "<IBMQBackend('ibmq_lima') from IBMQ(hub='ibm-q', group='open', project='main')>"
      ]
     },
     "execution_count": 27,
     "metadata": {},
     "output_type": "execute_result"
    }
   ],
   "source": [
    "# See backend information\n",
    "backend_device"
   ]
  },
  {
   "cell_type": "code",
   "execution_count": 28,
   "id": "enhanced-alexandria",
   "metadata": {},
   "outputs": [
    {
     "name": "stdout",
     "output_type": "stream",
     "text": [
      "ibmq_lima\n",
      "=========\n",
      "Configuration\n",
      "-------------\n",
      "    n_qubits: 5\n",
      "    operational: True\n",
      "    status_msg: active\n",
      "    pending_jobs: 18\n",
      "    backend_version: 1.0.9\n",
      "    basis_gates: ['id', 'rz', 'sx', 'x', 'cx', 'reset']\n",
      "    local: False\n",
      "    simulator: False\n",
      "    sample_name: family: Falcon, revision: 4, segment: T\n",
      "    conditional_latency: []\n",
      "    allow_q_object: True\n",
      "    meas_lo_range: [[6.925143125e+18, 7.925143125e+18], [6.72164672e+18, 7.72164672e+18], [6.971842939e+18, 7.971842939e+18], [6.865317232e+18, 7.865317232e+18], [6.919067567e+18, 7.919067567e+18]]\n",
      "    discriminators: ['quadratic_discriminator', 'hw_centroid', 'linear_discriminator']\n",
      "    parametric_pulses: ['gaussian', 'gaussian_square', 'drag', 'constant']\n",
      "    u_channel_lo: [[{'q': 1, 'scale': (1+0j)}], [{'q': 0, 'scale': (1+0j)}], [{'q': 2, 'scale': (1+0j)}], [{'q': 3, 'scale': (1+0j)}], [{'q': 1, 'scale': (1+0j)}], [{'q': 1, 'scale': (1+0j)}], [{'q': 4, 'scale': (1+0j)}], [{'q': 3, 'scale': (1+0j)}]]\n",
      "    coupling_map: [[0, 1], [1, 0], [1, 2], [1, 3], [2, 1], [3, 1], [3, 4], [4, 3]]\n",
      "    uchannels_enabled: True\n",
      "    rep_delay_range: [0.0, 500.0]\n",
      "    default_rep_delay: 250.0\n",
      "    qubit_lo_range: [[4.529699419570711e+18, 5.529699419570712e+18], [4.628370369261794e+18, 5.628370369261794e+18], [4.747499537655961e+18, 5.747499537655961e+18], [4.803439140315094e+18, 5.803439140315094e+18], [4.591731784323289e+18, 5.591731784323289e+18]]\n",
      "    dt: 0.2222222222222222\n",
      "    meas_map: [[0, 1, 2, 3, 4]]\n",
      "    multi_meas_enabled: True\n",
      "    acquisition_latency: []\n",
      "    meas_levels: [1, 2]\n",
      "    description: 5 qubit device Lima\n",
      "    max_shots: 8192\n",
      "    backend_name: ibmq_lima\n",
      "    memory: True\n",
      "    url: None\n",
      "    open_pulse: False\n",
      "    meas_kernels: ['hw_boxcar']\n",
      "    n_registers: 1\n",
      "    quantum_volume: 8\n",
      "    supported_instructions: ['x', 'cx', 'rz', 'shiftf', 'u1', 'acquire', 'play', 'u2', 'delay', 'id', 'reset', 'setf', 'measure', 'sx', 'u3']\n",
      "    hamiltonian: {'description': 'Qubits are modeled as Duffing oscillators. In this case, the system includes higher energy states, i.e. not just |0> and |1>. The Pauli operators are generalized via the following set of transformations:\\n\\n$(\\\\mathbb{I}-\\\\sigma_{i}^z)/2 \\\\rightarrow O_i \\\\equiv b^\\\\dagger_{i} b_{i}$,\\n\\n$\\\\sigma_{+} \\\\rightarrow b^\\\\dagger$,\\n\\n$\\\\sigma_{-} \\\\rightarrow b$,\\n\\n$\\\\sigma_{i}^X \\\\rightarrow b^\\\\dagger_{i} + b_{i}$.\\n\\nQubits are coupled through resonator buses. The provided Hamiltonian has been projected into the zero excitation subspace of the resonator buses leading to an effective qubit-qubit flip-flop interaction. The qubit resonance frequencies in the Hamiltonian are the cavity dressed frequencies and not exactly what is returned by the backend defaults, which also includes the dressing due to the qubit-qubit interactions.\\n\\nQuantities are returned in angular frequencies, with units 2*pi*GHz.\\n\\nWARNING: Currently not all system Hamiltonian information is available to the public, missing values have been replaced with 0.\\n', 'h_latex': '\\\\begin{align} \\\\mathcal{H}/\\\\hbar = & \\\\sum_{i=0}^{4}\\\\left(\\\\frac{\\\\omega_{q,i}}{2}(\\\\mathbb{I}-\\\\sigma_i^{z})+\\\\frac{\\\\Delta_{i}}{2}(O_i^2-O_i)+\\\\Omega_{d,i}D_i(t)\\\\sigma_i^{X}\\\\right) \\\\\\\\ & + J_{0,1}(\\\\sigma_{0}^{+}\\\\sigma_{1}^{-}+\\\\sigma_{0}^{-}\\\\sigma_{1}^{+}) + J_{1,3}(\\\\sigma_{1}^{+}\\\\sigma_{3}^{-}+\\\\sigma_{1}^{-}\\\\sigma_{3}^{+}) + J_{3,4}(\\\\sigma_{3}^{+}\\\\sigma_{4}^{-}+\\\\sigma_{3}^{-}\\\\sigma_{4}^{+}) + J_{1,2}(\\\\sigma_{1}^{+}\\\\sigma_{2}^{-}+\\\\sigma_{1}^{-}\\\\sigma_{2}^{+}) \\\\\\\\ & + \\\\Omega_{d,0}(U_{0}^{(0,1)}(t))\\\\sigma_{0}^{X} + \\\\Omega_{d,1}(U_{1}^{(1,0)}(t)+U_{3}^{(1,3)}(t)+U_{2}^{(1,2)}(t))\\\\sigma_{1}^{X} \\\\\\\\ & + \\\\Omega_{d,2}(U_{4}^{(2,1)}(t))\\\\sigma_{2}^{X} + \\\\Omega_{d,3}(U_{5}^{(3,1)}(t)+U_{6}^{(3,4)}(t))\\\\sigma_{3}^{X} \\\\\\\\ & + \\\\Omega_{d,4}(U_{7}^{(4,3)}(t))\\\\sigma_{4}^{X} \\\\\\\\ \\\\end{align}', 'h_str': ['_SUM[i,0,4,wq{i}/2*(I{i}-Z{i})]', '_SUM[i,0,4,delta{i}/2*O{i}*O{i}]', '_SUM[i,0,4,-delta{i}/2*O{i}]', '_SUM[i,0,4,omegad{i}*X{i}||D{i}]', 'jq0q1*Sp0*Sm1', 'jq0q1*Sm0*Sp1', 'jq1q3*Sp1*Sm3', 'jq1q3*Sm1*Sp3', 'jq3q4*Sp3*Sm4', 'jq3q4*Sm3*Sp4', 'jq1q2*Sp1*Sm2', 'jq1q2*Sm1*Sp2', 'omegad1*X0||U0', 'omegad0*X1||U1', 'omegad3*X1||U3', 'omegad2*X1||U2', 'omegad1*X2||U4', 'omegad1*X3||U5', 'omegad4*X3||U6', 'omegad3*X4||U7'], 'osc': {}, 'qub': {'0': 3, '1': 3, '2': 3, '3': 3, '4': 3}, 'vars': {'delta0': -2.109526390232452, 'delta1': -2.0002465324219205, 'delta2': -2.0960936199138844, 'delta3': -2.0812544393432897, 'delta4': -2.1015348325639516, 'jq0q1': 0.011088625669671271, 'jq1q2': 0.01179254939343634, 'jq1q3': 0.011913891984976945, 'jq3q4': 0.011656329753118026, 'omegad0': 1.5524115397120866, 'omegad1': 1.2763100018069913, 'omegad2': 1.3611528711668013, 'omegad3': 1.5289517882167523, 'omegad4': 1.5209600300344115, 'wq0': 31.602533492576388, 'wq1': 32.222501353920855, 'wq2': 32.971011994431606, 'wq3': 33.32249088394894, 'wq4': 31.99229433535939}}\n",
      "    online_date: 2021-01-08 05:00:00+00:00\n",
      "    rep_times: [0.001]\n",
      "    allow_object_storage: True\n",
      "    dtm: 0.2222222222222222\n",
      "    credits_required: True\n",
      "    processor_type: {'family': 'Falcon', 'revision': 4, 'segment': 'T'}\n",
      "    conditional: False\n",
      "    qubit_channel_mapping: [['m0', 'u0', 'd0', 'u1'], ['u5', 'u1', 'd1', 'm1', 'u2', 'u4', 'u0', 'u3'], ['m2', 'u2', 'd2', 'u4'], ['m3', 'u5', 'd3', 'u7', 'u6', 'u3'], ['d4', 'u6', 'u7', 'm4']]\n",
      "    max_experiments: 900\n",
      "    channels: {'acquire0': {'operates': {'qubits': [0]}, 'purpose': 'acquire', 'type': 'acquire'}, 'acquire1': {'operates': {'qubits': [1]}, 'purpose': 'acquire', 'type': 'acquire'}, 'acquire2': {'operates': {'qubits': [2]}, 'purpose': 'acquire', 'type': 'acquire'}, 'acquire3': {'operates': {'qubits': [3]}, 'purpose': 'acquire', 'type': 'acquire'}, 'acquire4': {'operates': {'qubits': [4]}, 'purpose': 'acquire', 'type': 'acquire'}, 'd0': {'operates': {'qubits': [0]}, 'purpose': 'drive', 'type': 'drive'}, 'd1': {'operates': {'qubits': [1]}, 'purpose': 'drive', 'type': 'drive'}, 'd2': {'operates': {'qubits': [2]}, 'purpose': 'drive', 'type': 'drive'}, 'd3': {'operates': {'qubits': [3]}, 'purpose': 'drive', 'type': 'drive'}, 'd4': {'operates': {'qubits': [4]}, 'purpose': 'drive', 'type': 'drive'}, 'm0': {'operates': {'qubits': [0]}, 'purpose': 'measure', 'type': 'measure'}, 'm1': {'operates': {'qubits': [1]}, 'purpose': 'measure', 'type': 'measure'}, 'm2': {'operates': {'qubits': [2]}, 'purpose': 'measure', 'type': 'measure'}, 'm3': {'operates': {'qubits': [3]}, 'purpose': 'measure', 'type': 'measure'}, 'm4': {'operates': {'qubits': [4]}, 'purpose': 'measure', 'type': 'measure'}, 'u0': {'operates': {'qubits': [0, 1]}, 'purpose': 'cross-resonance', 'type': 'control'}, 'u1': {'operates': {'qubits': [1, 0]}, 'purpose': 'cross-resonance', 'type': 'control'}, 'u2': {'operates': {'qubits': [1, 2]}, 'purpose': 'cross-resonance', 'type': 'control'}, 'u3': {'operates': {'qubits': [1, 3]}, 'purpose': 'cross-resonance', 'type': 'control'}, 'u4': {'operates': {'qubits': [2, 1]}, 'purpose': 'cross-resonance', 'type': 'control'}, 'u5': {'operates': {'qubits': [3, 1]}, 'purpose': 'cross-resonance', 'type': 'control'}, 'u6': {'operates': {'qubits': [3, 4]}, 'purpose': 'cross-resonance', 'type': 'control'}, 'u7': {'operates': {'qubits': [4, 3]}, 'purpose': 'cross-resonance', 'type': 'control'}}\n",
      "    n_uchannels: 8\n",
      "    dynamic_reprate_enabled: True\n",
      "\n",
      "Qubits [Name / Freq / T1 / T2 / RZ err / SX err / X err / Readout err]\n",
      "----------------------------------------------------------------------\n",
      "    Q0 / 5.02970 GHz / 103.69615 us / 89.87258 us / 0.00000 / 0.00020 / 0.00020 / 0.01890 \n",
      "    Q1 / 5.12837 GHz / 104.21351 us / 114.62213 us / 0.00000 / 0.00027 / 0.00027 / 0.02230 \n",
      "    Q2 / 5.24750 GHz / 43.19112 us / 71.14005 us / 0.00000 / 0.00029 / 0.00029 / 0.02590 \n",
      "    Q3 / 5.30344 GHz / 92.40138 us / 33.01277 us / 0.00000 / 0.00032 / 0.00032 / 0.06800 \n",
      "    Q4 / 5.09173 GHz / 20.41997 us / 21.37780 us / 0.00000 / 0.00086 / 0.00086 / 0.06000 \n",
      "\n",
      "Multi-Qubit Gates [Name / Type / Gate Error]\n",
      "--------------------------------------------\n",
      "    cx4_3 / cx / 0.02136\n",
      "    cx3_4 / cx / 0.02136\n",
      "    cx0_1 / cx / 0.00580\n",
      "    cx1_0 / cx / 0.00580\n",
      "    cx3_1 / cx / 0.01041\n",
      "    cx1_3 / cx / 0.01041\n",
      "    cx2_1 / cx / 0.00582\n",
      "    cx1_2 / cx / 0.00582\n"
     ]
    }
   ],
   "source": [
    "backend_monitor(backend_device)"
   ]
  },
  {
   "cell_type": "code",
   "execution_count": 29,
   "id": "modular-transmission",
   "metadata": {},
   "outputs": [
    {
     "data": {
      "application/vnd.jupyter.widget-view+json": {
       "model_id": "",
       "version_major": 2,
       "version_minor": 0
      },
      "text/plain": [
       "Accordion(children=(VBox(layout=Layout(max_width='710px', min_width='710px')),), layout=Layout(max_height='500…"
      ]
     },
     "metadata": {},
     "output_type": "display_data"
    },
    {
     "data": {
      "application/javascript": [
       "$('div.job_widget')\n",
       "        .detach()\n",
       "        .appendTo($('#header'))\n",
       "        .css({\n",
       "            'z-index': 999,\n",
       "             'position': 'fixed',\n",
       "            'box-shadow': '5px 5px 5px -3px black',\n",
       "            'opacity': 0.95,\n",
       "            'float': 'left,'\n",
       "        })\n",
       "        "
      ],
      "text/plain": [
       "<IPython.core.display.Javascript object>"
      ]
     },
     "metadata": {},
     "output_type": "display_data"
    }
   ],
   "source": [
    "%qiskit_job_watcher"
   ]
  },
  {
   "cell_type": "code",
   "execution_count": 30,
   "id": "different-tuition",
   "metadata": {},
   "outputs": [
    {
     "name": "stdout",
     "output_type": "stream",
     "text": [
      "JOB ID: 609aab11b3badf09a0551b9d\n"
     ]
    }
   ],
   "source": [
    "job_DJ_r = execute(qc, backend_device, shots=shots)\n",
    "\n",
    "jobID_DJ_r = job_DJ_r.job_id()\n",
    "\n",
    "print('JOB ID: {}'.format(jobID_DJ_r))"
   ]
  },
  {
   "cell_type": "code",
   "execution_count": 32,
   "id": "common-classroom",
   "metadata": {},
   "outputs": [],
   "source": [
    "job_get=backend_device.retrieve_job(\"609aab11b3badf09a0551b9d\")\n",
    "result_DJ_r = job_get.result()\n",
    "counts_DJ_run = result_DJ_r.get_counts(qc)"
   ]
  },
  {
   "cell_type": "code",
   "execution_count": 33,
   "id": "abstract-provider",
   "metadata": {},
   "outputs": [
    {
     "data": {
      "image/png": "[encoded data removed]",
      "text/plain": [
       "<Figure size 504x360 with 1 Axes>"
      ]
     },
     "execution_count": 33,
     "metadata": {},
     "output_type": "execute_result"
    }
   ],
   "source": [
    "plot_histogram([counts_DJ_run, counts_sim ], legend=[ 'run in real device', 'ideal'], color=['#061727','#82cfff'])"
   ]
  },
  {
   "cell_type": "markdown",
   "id": "variable-ranch",
   "metadata": {},
   "source": [
    "### Optimize"
   ]
  },
  {
   "cell_type": "code",
   "execution_count": 34,
   "id": "occupied-masters",
   "metadata": {},
   "outputs": [
    {
     "data": {
      "image/png": "[encoded data removed]",
      "text/plain": [
       "<Figure size 751.72x192.64 with 1 Axes>"
      ]
     },
     "execution_count": 34,
     "metadata": {},
     "output_type": "execute_result"
    }
   ],
   "source": [
    "from qiskit.compiler import transpile\n",
    "\n",
    "qc_t_real = transpile(qc, backend=backend_device)\n",
    "\n",
    "qc_t_real.draw(output='mpl', scale=0.5)"
   ]
  },
  {
   "cell_type": "markdown",
   "id": "critical-marijuana",
   "metadata": {},
   "source": [
    "**7 - Make transpiler optimization. (Try different levels of optimization and compare the results in exercise 10.)**"
   ]
  },
  {
   "cell_type": "code",
   "execution_count": 35,
   "id": "presidential-builder",
   "metadata": {},
   "outputs": [
    {
     "data": {
      "image/png": "[encoded data removed]",
      "text/plain": [
       "<Figure size 360.42x192.64 with 1 Axes>"
      ]
     },
     "execution_count": 35,
     "metadata": {},
     "output_type": "execute_result"
    }
   ],
   "source": [
    "#qc_optimized = transpile(qc, backend=backend_device, optimization_level=1)\n",
    "qc_optimized = transpile(qc, backend=backend_device, optimization_level=2)\n",
    "#qc_optimized = transpile(qc, backend=backend_device, optimization_level=3)\n",
    "qc_optimized.draw(output='mpl', scale=0.5)"
   ]
  },
  {
   "cell_type": "code",
   "execution_count": 36,
   "id": "violent-unknown",
   "metadata": {},
   "outputs": [
    {
     "data": {
      "text/plain": [
       "7"
      ]
     },
     "execution_count": 36,
     "metadata": {},
     "output_type": "execute_result"
    }
   ],
   "source": [
    "qc.depth()"
   ]
  },
  {
   "cell_type": "code",
   "execution_count": 37,
   "id": "minus-sword",
   "metadata": {},
   "outputs": [
    {
     "data": {
      "text/plain": [
       "19"
      ]
     },
     "execution_count": 37,
     "metadata": {},
     "output_type": "execute_result"
    }
   ],
   "source": [
    "qc_t_real.depth()"
   ]
  },
  {
   "cell_type": "code",
   "execution_count": 38,
   "id": "fewer-fundamental",
   "metadata": {},
   "outputs": [
    {
     "data": {
      "image/png": "[encoded data removed]",
      "text/plain": [
       "<Figure size 360x360 with 1 Axes>"
      ]
     },
     "execution_count": 38,
     "metadata": {},
     "output_type": "execute_result"
    }
   ],
   "source": [
    "from qiskit.visualization import plot_circuit_layout\n",
    "plot_circuit_layout(qc_t_real, backend_device)"
   ]
  },
  {
   "cell_type": "markdown",
   "id": "comparable-effect",
   "metadata": {},
   "source": [
    "**8 - What is the layout and depth of the optimization?**"
   ]
  },
  {
   "cell_type": "code",
   "execution_count": 39,
   "id": "dominican-species",
   "metadata": {},
   "outputs": [
    {
     "data": {
      "text/plain": [
       "9"
      ]
     },
     "execution_count": 39,
     "metadata": {},
     "output_type": "execute_result"
    }
   ],
   "source": [
    "qc_optimized.depth()"
   ]
  },
  {
   "cell_type": "code",
   "execution_count": 40,
   "id": "useful-craft",
   "metadata": {},
   "outputs": [
    {
     "data": {
      "image/png": "[encoded data removed]",
      "text/plain": [
       "<Figure size 360x360 with 1 Axes>"
      ]
     },
     "execution_count": 40,
     "metadata": {},
     "output_type": "execute_result"
    }
   ],
   "source": [
    "plot_circuit_layout(qc_optimized, backend_device)"
   ]
  },
  {
   "cell_type": "markdown",
   "id": "adopted-level",
   "metadata": {},
   "source": [
    "**9 - Execute the circuits**"
   ]
  },
  {
   "cell_type": "code",
   "execution_count": 41,
   "id": "thick-buffalo",
   "metadata": {},
   "outputs": [
    {
     "name": "stdout",
     "output_type": "stream",
     "text": [
      "JOB ID: 609aace553f428be69ca0378\n"
     ]
    },
    {
     "data": {
      "text/plain": [
       "{'000': 6,\n",
       " '001': 11,\n",
       " '010': 2,\n",
       " '011': 34,\n",
       " '100': 9,\n",
       " '101': 71,\n",
       " '110': 90,\n",
       " '111': 801}"
      ]
     },
     "execution_count": 41,
     "metadata": {},
     "output_type": "execute_result"
    }
   ],
   "source": [
    "job_exp = execute(qc_optimized, backend_device, shots = shots)\n",
    "\n",
    "# job_id allows you to retrive old jobs\n",
    "jobID = job_exp.job_id()\n",
    "\n",
    "print('JOB ID: {}'.format(jobID))\n",
    "\n",
    "job_exp.result().get_counts(qc_optimized)"
   ]
  },
  {
   "cell_type": "code",
   "execution_count": 46,
   "id": "oriented-article",
   "metadata": {},
   "outputs": [],
   "source": [
    "#com optimização de nível 2\n",
    "job_get_o=backend_device.retrieve_job(\"609aace553f428be69ca0378\")\n",
    "\n"
   ]
  },
  {
   "cell_type": "code",
   "execution_count": 47,
   "id": "certain-realtor",
   "metadata": {},
   "outputs": [],
   "source": [
    "result_real_o = job_get_o.result(timeout=3600, wait=5)\n",
    "\n",
    "counts_opt = result_real_o.get_counts(qc_optimized)"
   ]
  },
  {
   "cell_type": "markdown",
   "id": "abandoned-delivery",
   "metadata": {},
   "source": [
    "**10 - Analyse the results**"
   ]
  },
  {
   "cell_type": "code",
   "execution_count": 48,
   "id": "general-flexibility",
   "metadata": {},
   "outputs": [],
   "source": [
    "%qiskit_disable_job_watcher"
   ]
  },
  {
   "cell_type": "code",
   "execution_count": 50,
   "id": "automated-sight",
   "metadata": {},
   "outputs": [
    {
     "data": {
      "image/png": "[encoded data removed]",
      "text/plain": [
       "<Figure size 1080x360 with 1 Axes>"
      ]
     },
     "execution_count": 50,
     "metadata": {},
     "output_type": "execute_result"
    }
   ],
   "source": [
    "title = 'DJ'\n",
    "legend = [ 'simulation results','run in real device results', 'optimized circuit level X']\n",
    "color = ['#6ea6ff','#051243','#054ada']\n",
    "\n",
    "plot_histogram([counts_sim, counts_DJ_run, counts_opt], legend = legend, title= title, figsize=(15, 5))"
   ]
  }
 ],
 "metadata": {
  "kernelspec": {
   "display_name": "Python 3",
   "language": "python",
   "name": "python3"
  },
  "language_info": {
   "codemirror_mode": {
    "name": "ipython",
    "version": 3
   },
   "file_extension": ".py",
   "mimetype": "text/x-python",
   "name": "python",
   "nbconvert_exporter": "python",
   "pygments_lexer": "ipython3",
   "version": "3.8.8"
  }
 },
 "nbformat": 4,
 "nbformat_minor": 5
}
