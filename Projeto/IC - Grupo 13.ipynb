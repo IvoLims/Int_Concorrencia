{
 "cells": [
  {
   "cell_type": "markdown",
   "id": "e3ffe368",
   "metadata": {},
   "source": [
    "# Interação e Concorrência\n",
    "## Trabalho Prático - Grupo 13\n",
    "\n",
    "\n",
    "Grupo:\n",
    "- André Morandi A86912\n",
    "- Ivo Lima A90214\n"
   ]
  },
  {
   "cell_type": "code",
   "execution_count": 74,
   "id": "03a57364",
   "metadata": {},
   "outputs": [],
   "source": [
    "# importing Qiskit\n",
    "from qiskit import Aer, IBMQ\n",
    "from qiskit import QuantumCircuit, ClassicalRegister, QuantumRegister\n",
    "from qiskit import execute, transpile\n",
    "\n",
    "# import visualization tools\n",
    "from qiskit.tools.visualization import plot_histogram, plot_state_city, plot_state_hinton\n",
    "\n",
    "import matplotlib.pyplot as plt\n",
    "%matplotlib inline\n",
    "\n",
    "# Import measurement calibration functions\n",
    "from qiskit.ignis.mitigation.measurement import (complete_meas_cal, tensored_meas_cal,\n",
    "                                                 CompleteMeasFitter, TensoredMeasFitter)"
   ]
  },
  {
   "cell_type": "markdown",
   "id": "3513379f",
   "metadata": {},
   "source": [
    "Sabendo que o número do nosso grupo é $N$ = $13$\n",
    "\n",
    "Temos de de usar um $\\textit{quantum algorithm}$ para encontrar $s$ numa lista não ordenada, tal que"
   ]
  },
  {
   "cell_type": "markdown",
   "id": "46207730",
   "metadata": {},
   "source": [
    "$$ s = N \\space mod \\space 8 $$"
   ]
  },
  {
   "cell_type": "code",
   "execution_count": 75,
   "id": "7d6aef22",
   "metadata": {
    "scrolled": true
   },
   "outputs": [
    {
     "data": {
      "text/plain": [
       "5"
      ]
     },
     "execution_count": 75,
     "metadata": {},
     "output_type": "execute_result"
    }
   ],
   "source": [
    "N = 13\n",
    "s = N % 8\n",
    "s"
   ]
  },
  {
   "cell_type": "markdown",
   "id": "e67a1c4b",
   "metadata": {},
   "source": [
    "Passando o valor de $s$ para binário, ficamos com:"
   ]
  },
  {
   "cell_type": "code",
   "execution_count": 76,
   "id": "e1677952",
   "metadata": {
    "scrolled": true
   },
   "outputs": [
    {
     "data": {
      "text/plain": [
       "'101'"
      ]
     },
     "execution_count": 76,
     "metadata": {},
     "output_type": "execute_result"
    }
   ],
   "source": [
    "w = bin(s)[2:]\n",
    "w # winner"
   ]
  },
  {
   "cell_type": "markdown",
   "id": "eefbf338",
   "metadata": {},
   "source": [
    "Portanto, como $5$ em binário é $101$, iremos precisar de preparar um circuito quântico de 3 qubits"
   ]
  },
  {
   "cell_type": "code",
   "execution_count": 77,
   "id": "412ea104",
   "metadata": {},
   "outputs": [
    {
     "name": "stdout",
     "output_type": "stream",
     "text": [
      "Número de qubits:  3\n"
     ]
    }
   ],
   "source": [
    "x = 3\n",
    "print('Número de qubits: ', x)"
   ]
  },
  {
   "cell_type": "code",
   "execution_count": 78,
   "id": "7f95c86c",
   "metadata": {
    "scrolled": true
   },
   "outputs": [],
   "source": [
    "qr_x      = QuantumRegister(x, 'x')\n",
    "cr        = ClassicalRegister(x, 'cr')\n",
    "qc_Grover = QuantumCircuit(qr_x,cr) # circuito quântico"
   ]
  },
  {
   "cell_type": "markdown",
   "id": "16dc33eb",
   "metadata": {},
   "source": [
    "Portanto, iremos inicializar o estado $s$. Para tal criamos a seguinte função:"
   ]
  },
  {
   "cell_type": "code",
   "execution_count": 79,
   "id": "46a8e91c",
   "metadata": {},
   "outputs": [],
   "source": [
    "def init(qc_Grover):\n",
    "    qc_Grover.h(0)\n",
    "    qc_Grover.h(1)\n",
    "    qc_Grover.h(2)"
   ]
  },
  {
   "cell_type": "markdown",
   "id": "8c6823b3",
   "metadata": {},
   "source": [
    "### Implementação do Oracle\n",
    "\n",
    "Para computar um $\\textbf{quantum algorithm}$ baseado em um determinada função, podemos implementar uma espécie de $\\textit{black box}$ da função. Passamos um $input$ $x$ e recebemos um $output$ $f(x)$.\n",
    "\n",
    "\n",
    "Para resolver os problemas, podemos definir o oráculo da seguinte forma: marcaremos nossa solução (ou soluções) com uma fase negativa ($-1$). Desta forma, podemos usar o $\\textbf{Grover's algorithm}$ para resolver.\n",
    "\n",
    "$$ U_w \\lvert x \\rangle \\Rightarrow x \\neq w \\rightarrow \\lvert x \\rangle $$\n",
    "$$ U_w \\lvert x \\rangle \\Rightarrow x = w \\rightarrow -\\lvert x \\rangle $$ \n",
    "\n",
    "Tomando o valor $w$ como sendo $101$ resultará na seguinte matriz:\n",
    "\n",
    "$$ U_w =  \\begin{bmatrix}1 & 0 & 0 & 0 & 0 & 0 & 0 & 0\\\\    0 & 1 & 0 & 0 & 0 & 0 & 0 & 0\\\\0 & 0 & 1 & 0 & 0 & 0 & 0 & 0\\\\0 & 0 & 0 & 1 & 0 & 0 & 0 & 0\\\\0 & 0 & 0 & 0 & 1 & 0 & 0 & 0\\\\0 & 0 & 0 & 0 & 0 & −1 & 0 & 0\\\\0 & 0 & 0 & 0 & 0 & 0 & 1 & 0\\\\0 & 0 & 0 & 0 & 0 & 0 & 0 & 1\\\\ \\end{bmatrix}$$"
   ]
  },
  {
   "cell_type": "code",
   "execution_count": 80,
   "id": "0abf1b82",
   "metadata": {},
   "outputs": [],
   "source": [
    "def func(qc_Grover):\n",
    "    backend_vector = Aer.get_backend(\"statevector_simulator\")\n",
    "    result = execute(qc_Grover, backend_vector).result()\n",
    "    qstate = result.get_statevector(qc_Grover)\n",
    "    print(qstate)\n",
    "\n",
    "\n",
    "\n",
    "def phase_oracle(qc_Grover, qr_x):\n",
    "    qc_Grover.x(qr_x[1])\n",
    "    qc_Grover.h(qr_x[2])\n",
    "    qc_Grover.ccx(qr_x[0], qr_x[1], qr_x[2])\n",
    "    qc_Grover.x(qr_x[1])\n",
    "    qc_Grover.h(qr_x[2])"
   ]
  },
  {
   "cell_type": "markdown",
   "id": "10b4e3da",
   "metadata": {},
   "source": [
    "---------------------------------------------------------------------------------\n",
    "De acordo com o que foi nos explicado durante as aulas da UC, a superposição colapsaria, sendo a probabilidade de cada uma das bases $\\frac{1}{N} = \\frac{1}{2^n}$ e o nossas chances de encontrar o valor $w$, $\\textit{à priori}$, seria de $1$ em $2^n$.\n",
    "\n",
    "O computador quântico utiliza a amplificação de amplitude para que possa aumentar a probabilidade. Este processo amplifica a amplitude do $w$ enquanto diminiu a dos outros.\n",
    "\n",
    "![title](grover_step1.jpg)\n",
    "\n",
    "\n",
    "Aplica-se a reflexão do oráculo ao estado $s$. Esta transformação significa que a amplitude média à frente do estado de $w$ tornar-se-á negativa (foi diminuída). \n",
    "\n",
    "---> IMAGEM\n",
    "\n",
    "\n",
    "\n",
    "\n",
    "\n",
    "\n",
    "\n",
    "---------------------------------------------------------------------------------"
   ]
  },
  {
   "cell_type": "markdown",
   "id": "bcf36bdf",
   "metadata": {},
   "source": [
    "### Diffuser\n",
    "  \n",
    "Como mostrado antes, o difusor reflete os estados na média calculada. Isto faz com que a amplitude de $w$ fique bem acima desta média e as outras amplitudes bem abaixo. Portanto, a probabilidade de escolher-se p estado $w$ é muito maior. \n",
    "\n",
    "Após várias repetições do oráculo e do difusor com o Grover, a probabilidade de escolher-se o estado $w$ convirgirá para 100%, uma vez que a amplitude continuará sempre a subir. Porém, é normal que nunca atinja, de facto, o máximo sabendo que os outros itens terão uma baixa amplitude. "
   ]
  },
  {
   "cell_type": "code",
   "execution_count": 81,
   "id": "7b6abcdf",
   "metadata": {},
   "outputs": [],
   "source": [
    "def diffuser(qc_Grover,qr_x):\n",
    "    qc_Grover.h(qr_x[0])\n",
    "    qc_Grover.barrier(qr_x[1])\n",
    "    qc_Grover.barrier(qr_x[2])\n",
    "    qc_Grover.x(qr_x[0])\n",
    "    qc_Grover.h(qr_x[1])\n",
    "    qc_Grover.h(qr_x[2])\n",
    "    qc_Grover.x(qr_x[1])\n",
    "    qc_Grover.x(qr_x[2])\n",
    "    qc_Grover.h(qr_x[2])\n",
    "    qc_Grover.ccx(qr_x[0], qr_x[1], qr_x[2])\n",
    "    qc_Grover.x(qr_x[0])\n",
    "    qc_Grover.x(qr_x[1])\n",
    "    qc_Grover.h(qr_x[2])\n",
    "    qc_Grover.h(qr_x[0])\n",
    "    qc_Grover.h(qr_x[1])\n",
    "    qc_Grover.x(qr_x[2])\n",
    "    qc_Grover.h(qr_x[2])"
   ]
  },
  {
   "cell_type": "markdown",
   "id": "7b559b68",
   "metadata": {},
   "source": [
    "### Implementação Completa em Qiskit"
   ]
  },
  {
   "cell_type": "markdown",
   "id": "981fe76a",
   "metadata": {},
   "source": [
    "O $qc\\_Grover$ vai inicializer o quantum circuit"
   ]
  },
  {
   "cell_type": "code",
   "execution_count": 109,
   "id": "c1a5b537",
   "metadata": {
    "scrolled": true
   },
   "outputs": [
    {
     "data": {
      "image/png": "[encoded data removed]",
      "text/plain": [
       "<Figure size 1590.73x565.88 with 1 Axes>"
      ]
     },
     "execution_count": 109,
     "metadata": {},
     "output_type": "execute_result"
    }
   ],
   "source": [
    "cr        = ClassicalRegister(x,'cr')\n",
    "qc_Grover = QuantumCircuit(qr_x,cr)\n",
    "\n",
    "init(qc_Grover)\n",
    "\n",
    "for t in range(2):\n",
    "    # phase oracle\n",
    "    phase_oracle(qc_Grover, qr_x)\n",
    "    # diffuser\n",
    "    diffuser(qc_Grover,qr_x)\n",
    "    \n",
    "qc_Grover.measure(qr_x,cr)\n",
    "\n",
    "qc_Grover.draw(output = 'mpl')"
   ]
  },
  {
   "cell_type": "markdown",
   "id": "ec4bf41a",
   "metadata": {},
   "source": [
    "Agora iremos correr o circuito num simulador."
   ]
  },
  {
   "cell_type": "code",
   "execution_count": 110,
   "id": "5b93157a",
   "metadata": {},
   "outputs": [],
   "source": [
    "backend = Aer.get_backend(\"qasm_simulator\")"
   ]
  },
  {
   "cell_type": "code",
   "execution_count": 112,
   "id": "89dfba61",
   "metadata": {},
   "outputs": [
    {
     "data": {
      "image/png": "[encoded data removed]",
      "text/plain": [
       "<Figure size 504x360 with 1 Axes>"
      ]
     },
     "execution_count": 112,
     "metadata": {},
     "output_type": "execute_result"
    }
   ],
   "source": [
    "shots=1024\n",
    "result = execute(qc_Grover, backend, shots=shots).result()\n",
    "counts_sim = result.get_counts(qc_Grover)\n",
    "plot_histogram(counts_sim)"
   ]
  },
  {
   "cell_type": "code",
   "execution_count": 113,
   "id": "126d039b",
   "metadata": {
    "scrolled": true
   },
   "outputs": [
    {
     "data": {
      "text/plain": [
       "22"
      ]
     },
     "execution_count": 113,
     "metadata": {},
     "output_type": "execute_result"
    }
   ],
   "source": [
    "qc_Grover.depth()"
   ]
  },
  {
   "cell_type": "markdown",
   "id": "5e5fc4cd",
   "metadata": {},
   "source": [
    "Nota-se que a convergência anda num passo de aproximadamente $\\sqrt{N}$. No nosso caso é $\\sqrt{5}$ = $2.23606$ = $2$. Por isso temos que o nosso ciclo tem $\\textit{range}$ de $2$."
   ]
  },
  {
   "cell_type": "markdown",
   "id": "ac717904",
   "metadata": {},
   "source": [
    "Agora iremos testar o circuito numa máquina quantum de verdade"
   ]
  },
  {
   "cell_type": "markdown",
   "id": "b053d1fd",
   "metadata": {},
   "source": [
    "### Correr num quantum computer"
   ]
  },
  {
   "cell_type": "code",
   "execution_count": 86,
   "id": "107d2f05",
   "metadata": {},
   "outputs": [
    {
     "name": "stderr",
     "output_type": "stream",
     "text": [
      "ibmqfactory.load_account:WARNING:2021-06-02 15:05:30,477: Credentials are already in use. The existing account in the session will be replaced.\n"
     ]
    },
    {
     "data": {
      "text/plain": [
       "[<IBMQSimulator('ibmq_qasm_simulator') from IBMQ(hub='ibm-q', group='open', project='main')>,\n",
       " <IBMQBackend('ibmqx2') from IBMQ(hub='ibm-q', group='open', project='main')>,\n",
       " <IBMQBackend('ibmq_16_melbourne') from IBMQ(hub='ibm-q', group='open', project='main')>,\n",
       " <IBMQBackend('ibmq_armonk') from IBMQ(hub='ibm-q', group='open', project='main')>,\n",
       " <IBMQBackend('ibmq_athens') from IBMQ(hub='ibm-q', group='open', project='main')>,\n",
       " <IBMQBackend('ibmq_santiago') from IBMQ(hub='ibm-q', group='open', project='main')>,\n",
       " <IBMQBackend('ibmq_lima') from IBMQ(hub='ibm-q', group='open', project='main')>,\n",
       " <IBMQBackend('ibmq_belem') from IBMQ(hub='ibm-q', group='open', project='main')>,\n",
       " <IBMQBackend('ibmq_quito') from IBMQ(hub='ibm-q', group='open', project='main')>,\n",
       " <IBMQSimulator('simulator_statevector') from IBMQ(hub='ibm-q', group='open', project='main')>,\n",
       " <IBMQSimulator('simulator_mps') from IBMQ(hub='ibm-q', group='open', project='main')>,\n",
       " <IBMQSimulator('simulator_extended_stabilizer') from IBMQ(hub='ibm-q', group='open', project='main')>,\n",
       " <IBMQSimulator('simulator_stabilizer') from IBMQ(hub='ibm-q', group='open', project='main')>,\n",
       " <IBMQBackend('ibmq_manila') from IBMQ(hub='ibm-q', group='open', project='main')>]"
      ]
     },
     "execution_count": 86,
     "metadata": {},
     "output_type": "execute_result"
    }
   ],
   "source": [
    "provider = IBMQ.load_account()\n",
    "provider.backends()"
   ]
  },
  {
   "cell_type": "code",
   "execution_count": 87,
   "id": "7b287fd4",
   "metadata": {},
   "outputs": [
    {
     "data": {
      "application/vnd.jupyter.widget-view+json": {
       "model_id": "5f9fb05445224c539c6ebf1bca832d43",
       "version_major": 2,
       "version_minor": 0
      },
      "text/plain": [
       "VBox(children=(HTML(value=\"<h2 style ='color:#ffffff; background-color:#000000;padding-top: 1%; padding-bottom…"
      ]
     },
     "metadata": {},
     "output_type": "display_data"
    }
   ],
   "source": [
    "# Backend overview\n",
    "import qiskit.tools.jupyter\n",
    "\n",
    "%qiskit_backend_overview"
   ]
  },
  {
   "cell_type": "code",
   "execution_count": 88,
   "id": "e747a95b",
   "metadata": {},
   "outputs": [
    {
     "name": "stdout",
     "output_type": "stream",
     "text": [
      "ibmq_manila                  ibmq_quito                  ibmq_belem\n",
      "-----------                  ----------                  ----------\n",
      "Num. Qubits:  5              Num. Qubits:  5             Num. Qubits:  5\n",
      "Pending Jobs: 16             Pending Jobs: 0             Pending Jobs: 12\n",
      "Least busy:   False          Least busy:   True          Least busy:   False\n",
      "Operational:  True           Operational:  True          Operational:  True\n",
      "Avg. T1:      170.4          Avg. T1:      77.0          Avg. T1:      70.7\n",
      "Avg. T2:      66.4           Avg. T2:      72.8          Avg. T2:      78.4\n",
      "\n",
      "\n",
      "\n",
      "ibmq_lima                    ibmq_santiago                ibmq_athens\n",
      "---------                    -------------                -----------\n",
      "Num. Qubits:  5              Num. Qubits:  5              Num. Qubits:  5\n",
      "Pending Jobs: 24             Pending Jobs: 8              Pending Jobs: 15\n",
      "Least busy:   False          Least busy:   False          Least busy:   False\n",
      "Operational:  True           Operational:  True           Operational:  True\n",
      "Avg. T1:      65.4           Avg. T1:      146.2          Avg. T1:      82.6\n",
      "Avg. T2:      74.9           Avg. T2:      125.3          Avg. T2:      117.7\n",
      "\n",
      "\n",
      "\n",
      "ibmq_armonk                  ibmq_16_melbourne            ibmqx2\n",
      "-----------                  -----------------            ------\n",
      "Num. Qubits:  1              Num. Qubits:  15             Num. Qubits:  5\n",
      "Pending Jobs: 39             Pending Jobs: 10             Pending Jobs: 14\n",
      "Least busy:   False          Least busy:   False          Least busy:   False\n",
      "Operational:  True           Operational:  True           Operational:  True\n",
      "Avg. T1:      237.2          Avg. T1:      55.0           Avg. T1:      58.3\n",
      "Avg. T2:      295.8          Avg. T2:      54.2           Avg. T2:      37.6\n",
      "\n",
      "\n",
      "\n"
     ]
    }
   ],
   "source": [
    "from qiskit.tools.monitor import backend_overview, backend_monitor\n",
    "\n",
    "backend_overview()"
   ]
  },
  {
   "cell_type": "markdown",
   "id": "7c4b13eb",
   "metadata": {},
   "source": [
    "Escolhemos a '$\\textbf{ibmq_santiago}$' devido ao Avgerage $T1$ ($\\textit{relaxation time}$) e $T2$ ($\\textit{coherence time}$) e também por causa da quantidade de qubits superior ou igual a 3."
   ]
  },
  {
   "cell_type": "code",
   "execution_count": 89,
   "id": "3d43723f",
   "metadata": {},
   "outputs": [
    {
     "name": "stdout",
     "output_type": "stream",
     "text": [
      "Running on:  ibmq_santiago\n"
     ]
    }
   ],
   "source": [
    "backend_device = provider.get_backend('ibmq_santiago')\n",
    "print(\"Running on: \", backend_device)"
   ]
  },
  {
   "cell_type": "code",
   "execution_count": 90,
   "id": "a59c275f",
   "metadata": {},
   "outputs": [
    {
     "data": {
      "application/vnd.jupyter.widget-view+json": {
       "model_id": "e67c86b9f5154764bdaceb4aee8a772e",
       "version_major": 2,
       "version_minor": 0
      },
      "text/plain": [
       "VBox(children=(HTML(value=\"<h1 style='color:#ffffff;background-color:#000000;padding-top: 1%;padding-bottom: 1…"
      ]
     },
     "metadata": {},
     "output_type": "display_data"
    },
    {
     "data": {
      "text/plain": [
       "<IBMQBackend('ibmq_santiago') from IBMQ(hub='ibm-q', group='open', project='main')>"
      ]
     },
     "execution_count": 90,
     "metadata": {},
     "output_type": "execute_result"
    }
   ],
   "source": [
    "# See backend information\n",
    "backend_device"
   ]
  },
  {
   "cell_type": "code",
   "execution_count": 91,
   "id": "7a28fff2",
   "metadata": {},
   "outputs": [
    {
     "name": "stdout",
     "output_type": "stream",
     "text": [
      "ibmq_santiago\n",
      "=============\n",
      "Configuration\n",
      "-------------\n",
      "    n_qubits: 5\n",
      "    operational: True\n",
      "    status_msg: active\n",
      "    pending_jobs: 8\n",
      "    backend_version: 1.3.22\n",
      "    basis_gates: ['id', 'rz', 'sx', 'x', 'cx', 'reset']\n",
      "    local: False\n",
      "    simulator: False\n",
      "    backend_name: ibmq_santiago\n",
      "    memory: True\n",
      "    parametric_pulses: ['gaussian', 'gaussian_square', 'drag', 'constant']\n",
      "    rep_delay_range: [0.0, 500.0]\n",
      "    meas_lo_range: [[6.952624018e+18, 7.952624018e+18], [6.701014434e+18, 7.701014434e+18], [6.837332258e+18, 7.837332258e+18], [6.901770712e+18, 7.901770712e+18], [6.775814414e+18, 7.775814414e+18]]\n",
      "    supported_instructions: ['shiftf', 'cx', 'rz', 'play', 'delay', 'u1', 'sx', 'id', 'x', 'measure', 'setf', 'acquire', 'u2', 'u3', 'reset']\n",
      "    hamiltonian: {'description': 'Qubits are modeled as Duffing oscillators. In this case, the system includes higher energy states, i.e. not just |0> and |1>. The Pauli operators are generalized via the following set of transformations:\\n\\n$(\\\\mathbb{I}-\\\\sigma_{i}^z)/2 \\\\rightarrow O_i \\\\equiv b^\\\\dagger_{i} b_{i}$,\\n\\n$\\\\sigma_{+} \\\\rightarrow b^\\\\dagger$,\\n\\n$\\\\sigma_{-} \\\\rightarrow b$,\\n\\n$\\\\sigma_{i}^X \\\\rightarrow b^\\\\dagger_{i} + b_{i}$.\\n\\nQubits are coupled through resonator buses. The provided Hamiltonian has been projected into the zero excitation subspace of the resonator buses leading to an effective qubit-qubit flip-flop interaction. The qubit resonance frequencies in the Hamiltonian are the cavity dressed frequencies and not exactly what is returned by the backend defaults, which also includes the dressing due to the qubit-qubit interactions.\\n\\nQuantities are returned in angular frequencies, with units 2*pi*GHz.\\n\\nWARNING: Currently not all system Hamiltonian information is available to the public, missing values have been replaced with 0.\\n', 'h_latex': '\\\\begin{align} \\\\mathcal{H}/\\\\hbar = & \\\\sum_{i=0}^{4}\\\\left(\\\\frac{\\\\omega_{q,i}}{2}(\\\\mathbb{I}-\\\\sigma_i^{z})+\\\\frac{\\\\Delta_{i}}{2}(O_i^2-O_i)+\\\\Omega_{d,i}D_i(t)\\\\sigma_i^{X}\\\\right) \\\\\\\\ & + J_{0,1}(\\\\sigma_{0}^{+}\\\\sigma_{1}^{-}+\\\\sigma_{0}^{-}\\\\sigma_{1}^{+}) + J_{3,4}(\\\\sigma_{3}^{+}\\\\sigma_{4}^{-}+\\\\sigma_{3}^{-}\\\\sigma_{4}^{+}) + J_{2,3}(\\\\sigma_{2}^{+}\\\\sigma_{3}^{-}+\\\\sigma_{2}^{-}\\\\sigma_{3}^{+}) + J_{1,2}(\\\\sigma_{1}^{+}\\\\sigma_{2}^{-}+\\\\sigma_{1}^{-}\\\\sigma_{2}^{+}) \\\\\\\\ & + \\\\Omega_{d,0}(U_{0}^{(0,1)}(t))\\\\sigma_{0}^{X} + \\\\Omega_{d,1}(U_{1}^{(1,0)}(t)+U_{2}^{(1,2)}(t))\\\\sigma_{1}^{X} \\\\\\\\ & + \\\\Omega_{d,2}(U_{3}^{(2,1)}(t)+U_{4}^{(2,3)}(t))\\\\sigma_{2}^{X} + \\\\Omega_{d,3}(U_{6}^{(3,4)}(t)+U_{5}^{(3,2)}(t))\\\\sigma_{3}^{X} \\\\\\\\ & + \\\\Omega_{d,4}(U_{7}^{(4,3)}(t))\\\\sigma_{4}^{X} \\\\\\\\ \\\\end{align}', 'h_str': ['_SUM[i,0,4,wq{i}/2*(I{i}-Z{i})]', '_SUM[i,0,4,delta{i}/2*O{i}*O{i}]', '_SUM[i,0,4,-delta{i}/2*O{i}]', '_SUM[i,0,4,omegad{i}*X{i}||D{i}]', 'jq0q1*Sp0*Sm1', 'jq0q1*Sm0*Sp1', 'jq3q4*Sp3*Sm4', 'jq3q4*Sm3*Sp4', 'jq2q3*Sp2*Sm3', 'jq2q3*Sm2*Sp3', 'jq1q2*Sp1*Sm2', 'jq1q2*Sm1*Sp2', 'omegad1*X0||U0', 'omegad0*X1||U1', 'omegad2*X1||U2', 'omegad1*X2||U3', 'omegad3*X2||U4', 'omegad4*X3||U6', 'omegad2*X3||U5', 'omegad3*X4||U7'], 'osc': {}, 'qub': {'0': 3, '1': 3, '2': 3, '3': 3, '4': 3}, 'vars': {'delta0': -2.1481278490714906, 'delta1': -2.0623435150768743, 'delta2': -2.1429828509850863, 'delta3': -2.137118237032298, 'delta4': -2.154596484455155, 'jq0q1': 0.007378105608801839, 'jq1q2': 0.007268700678758498, 'jq2q3': 0.007255936195908655, 'jq3q4': 0.006881064755295536, 'omegad0': 1.011843787408596, 'omegad1': 0.9868392726287193, 'omegad2': 1.0045590366632497, 'omegad3': 1.0088993922254823, 'omegad4': 1.0019371077529136, 'wq0': 30.369330747765794, 'wq1': 29.050994240351148, 'wq2': 30.288304930833277, 'wq3': 29.796682493743695, 'wq4': 30.261861228883156}}\n",
      "    u_channel_lo: [[{'q': 1, 'scale': (1+0j)}], [{'q': 0, 'scale': (1+0j)}], [{'q': 2, 'scale': (1+0j)}], [{'q': 1, 'scale': (1+0j)}], [{'q': 3, 'scale': (1+0j)}], [{'q': 2, 'scale': (1+0j)}], [{'q': 4, 'scale': (1+0j)}], [{'q': 3, 'scale': (1+0j)}]]\n",
      "    quantum_volume: 32\n",
      "    allow_object_storage: True\n",
      "    channels: {'acquire0': {'operates': {'qubits': [0]}, 'purpose': 'acquire', 'type': 'acquire'}, 'acquire1': {'operates': {'qubits': [1]}, 'purpose': 'acquire', 'type': 'acquire'}, 'acquire2': {'operates': {'qubits': [2]}, 'purpose': 'acquire', 'type': 'acquire'}, 'acquire3': {'operates': {'qubits': [3]}, 'purpose': 'acquire', 'type': 'acquire'}, 'acquire4': {'operates': {'qubits': [4]}, 'purpose': 'acquire', 'type': 'acquire'}, 'd0': {'operates': {'qubits': [0]}, 'purpose': 'drive', 'type': 'drive'}, 'd1': {'operates': {'qubits': [1]}, 'purpose': 'drive', 'type': 'drive'}, 'd2': {'operates': {'qubits': [2]}, 'purpose': 'drive', 'type': 'drive'}, 'd3': {'operates': {'qubits': [3]}, 'purpose': 'drive', 'type': 'drive'}, 'd4': {'operates': {'qubits': [4]}, 'purpose': 'drive', 'type': 'drive'}, 'm0': {'operates': {'qubits': [0]}, 'purpose': 'measure', 'type': 'measure'}, 'm1': {'operates': {'qubits': [1]}, 'purpose': 'measure', 'type': 'measure'}, 'm2': {'operates': {'qubits': [2]}, 'purpose': 'measure', 'type': 'measure'}, 'm3': {'operates': {'qubits': [3]}, 'purpose': 'measure', 'type': 'measure'}, 'm4': {'operates': {'qubits': [4]}, 'purpose': 'measure', 'type': 'measure'}, 'u0': {'operates': {'qubits': [0, 1]}, 'purpose': 'cross-resonance', 'type': 'control'}, 'u1': {'operates': {'qubits': [1, 0]}, 'purpose': 'cross-resonance', 'type': 'control'}, 'u2': {'operates': {'qubits': [1, 2]}, 'purpose': 'cross-resonance', 'type': 'control'}, 'u3': {'operates': {'qubits': [2, 1]}, 'purpose': 'cross-resonance', 'type': 'control'}, 'u4': {'operates': {'qubits': [2, 3]}, 'purpose': 'cross-resonance', 'type': 'control'}, 'u5': {'operates': {'qubits': [3, 2]}, 'purpose': 'cross-resonance', 'type': 'control'}, 'u6': {'operates': {'qubits': [3, 4]}, 'purpose': 'cross-resonance', 'type': 'control'}, 'u7': {'operates': {'qubits': [4, 3]}, 'purpose': 'cross-resonance', 'type': 'control'}}\n",
      "    discriminators: ['linear_discriminator', 'quadratic_discriminator', 'hw_qmfk']\n",
      "    max_shots: 8192\n",
      "    qubit_lo_range: [[4.3334291068996127e+18, 5.333429106899613e+18], [4.1236093350860667e+18, 5.123609335086067e+18], [4.320533447616743e+18, 5.320533447616743e+18], [4.2422893066190525e+18, 5.242289306619052e+18], [4.316324801737732e+18, 5.316324801737732e+18]]\n",
      "    description: 5 qubit device\n",
      "    max_experiments: 75\n",
      "    n_registers: 1\n",
      "    default_rep_delay: 250.0\n",
      "    uchannels_enabled: True\n",
      "    coupling_map: [[0, 1], [1, 0], [1, 2], [2, 1], [2, 3], [3, 2], [3, 4], [4, 3]]\n",
      "    dtm: 0.2222222222222222\n",
      "    dynamic_reprate_enabled: True\n",
      "    qubit_channel_mapping: [['m0', 'u0', 'd0', 'u1'], ['u0', 'd1', 'm1', 'u1', 'u2', 'u3'], ['u5', 'd2', 'm2', 'u2', 'u3', 'u4'], ['u6', 'd3', 'u7', 'u5', 'm3', 'u4'], ['m4', 'd4', 'u6', 'u7']]\n",
      "    acquisition_latency: []\n",
      "    conditional: False\n",
      "    meas_map: [[0, 1, 2, 3, 4]]\n",
      "    rep_times: [0.001]\n",
      "    credits_required: True\n",
      "    open_pulse: False\n",
      "    sample_name: family: Falcon, revision: 4, segment: L\n",
      "    meas_kernels: ['hw_qmfk']\n",
      "    multi_meas_enabled: True\n",
      "    pulse_num_channels: 9\n",
      "    n_uchannels: 8\n",
      "    pulse_num_qubits: 3\n",
      "    dt: 0.2222222222222222\n",
      "    allow_q_object: True\n",
      "    processor_type: {'family': 'Falcon', 'revision': 4, 'segment': 'L'}\n",
      "    online_date: 2020-06-03 04:00:00+00:00\n",
      "    meas_levels: [1, 2]\n",
      "    conditional_latency: []\n",
      "    url: None\n",
      "\n",
      "Qubits [Name / Freq / T1 / T2 / RZ err / SX err / X err / Readout err]\n",
      "----------------------------------------------------------------------\n",
      "    Q0 / 4.83343 GHz / 104.80651 us / 139.77618 us / 0.00000 / 0.00022 / 0.00022 / 0.01680 \n",
      "    Q1 / 4.62361 GHz / 127.22296 us / 101.15560 us / 0.00000 / 0.00017 / 0.00017 / 0.01070 \n",
      "    Q2 / 4.82053 GHz / 169.11101 us / 105.03354 us / 0.00000 / 0.00018 / 0.00018 / 0.01170 \n",
      "    Q3 / 4.74229 GHz / 206.52921 us / 99.79651 us / 0.00000 / 0.00019 / 0.00019 / 0.00510 \n",
      "    Q4 / 4.81632 GHz / 123.26729 us / 180.55897 us / 0.00000 / 0.00019 / 0.00019 / 0.02040 \n",
      "\n",
      "Multi-Qubit Gates [Name / Type / Gate Error]\n",
      "--------------------------------------------\n",
      "    cx4_3 / cx / 0.00612\n",
      "    cx3_4 / cx / 0.00612\n",
      "    cx2_3 / cx / 0.00635\n",
      "    cx3_2 / cx / 0.00635\n",
      "    cx2_1 / cx / 0.00689\n",
      "    cx1_2 / cx / 0.00689\n",
      "    cx0_1 / cx / 0.00614\n",
      "    cx1_0 / cx / 0.00614\n"
     ]
    }
   ],
   "source": [
    "backend_monitor(backend_device)"
   ]
  },
  {
   "cell_type": "code",
   "execution_count": 92,
   "id": "38b0c53c",
   "metadata": {},
   "outputs": [
    {
     "data": {
      "application/vnd.jupyter.widget-view+json": {
       "model_id": "a444480a9d7f43f98881e24b38f6b8bd",
       "version_major": 2,
       "version_minor": 0
      },
      "text/plain": [
       "Accordion(children=(VBox(layout=Layout(max_width='710px', min_width='710px')),), layout=Layout(max_height='500…"
      ]
     },
     "metadata": {},
     "output_type": "display_data"
    },
    {
     "data": {
      "application/javascript": [
       "$('div.job_widget')\n",
       "        .detach()\n",
       "        .appendTo($('#header'))\n",
       "        .css({\n",
       "            'z-index': 999,\n",
       "             'position': 'fixed',\n",
       "            'box-shadow': '5px 5px 5px -3px black',\n",
       "            'opacity': 0.95,\n",
       "            'float': 'left,'\n",
       "        })\n",
       "        "
      ],
      "text/plain": [
       "<IPython.core.display.Javascript object>"
      ]
     },
     "metadata": {},
     "output_type": "display_data"
    }
   ],
   "source": [
    "%qiskit_job_watcher"
   ]
  },
  {
   "cell_type": "code",
   "execution_count": 93,
   "id": "3f536bc0",
   "metadata": {},
   "outputs": [
    {
     "name": "stdout",
     "output_type": "stream",
     "text": [
      "JOB ID: 60b790444d4830f2e2534dc0\n"
     ]
    }
   ],
   "source": [
    "job_r = execute(qc_Grover, backend_device, shots=shots)\n",
    "\n",
    "jobID_r = job_r.job_id()\n",
    "\n",
    "print('JOB ID: {}'.format(jobID_r))"
   ]
  },
  {
   "cell_type": "code",
   "execution_count": 95,
   "id": "f94251f7",
   "metadata": {},
   "outputs": [],
   "source": [
    "job_get=backend_device.retrieve_job(\"60b790444d4830f2e2534dc0\")\n",
    "\n",
    "result_r = job_get.result()\n",
    "counts_run = result_r.get_counts(qc_Grover)"
   ]
  },
  {
   "cell_type": "code",
   "execution_count": 96,
   "id": "9d083dd3",
   "metadata": {
    "scrolled": true
   },
   "outputs": [
    {
     "data": {
      "image/png": "[encoded data removed]",
      "text/plain": [
       "<Figure size 504x360 with 1 Axes>"
      ]
     },
     "execution_count": 96,
     "metadata": {},
     "output_type": "execute_result"
    }
   ],
   "source": [
    "plot_histogram([counts_run, counts_sim ], legend=[ 'run in real device', 'ideal'], color=['#061727','#82cfff'])"
   ]
  },
  {
   "cell_type": "markdown",
   "id": "8a20b556",
   "metadata": {},
   "source": [
    "Desta forma, concluímos que há uma maior chance de medir |101⟩. Os outros resultados ocorrem devido aos erros da computação quântica."
   ]
  },
  {
   "cell_type": "markdown",
   "id": "060ae7c5",
   "metadata": {},
   "source": [
    "### IGNIS\n",
    "\n",
    "É uma calibração usada para diminuir os erros de medição."
   ]
  },
  {
   "cell_type": "markdown",
   "id": "17e128a1",
   "metadata": {},
   "source": [
    "### Calibration Matrix\n",
    "\n",
    "Como temos 3 qubits, precisamos de um circuito de calibração da ordem $2^3 = 8$"
   ]
  },
  {
   "cell_type": "code",
   "execution_count": 42,
   "id": "a1d8d2cd",
   "metadata": {},
   "outputs": [],
   "source": [
    "# Generate the calibration circuits\n",
    "qr = QuantumRegister(x)\n",
    "meas_calibs, state_labels = complete_meas_cal(qubit_list=[0,1,2], qr=qr, circlabel='mcal')"
   ]
  },
  {
   "cell_type": "code",
   "execution_count": 43,
   "id": "49c0ebe3",
   "metadata": {
    "scrolled": true
   },
   "outputs": [
    {
     "data": {
      "text/plain": [
       "['000', '001', '010', '011', '100', '101', '110', '111']"
      ]
     },
     "execution_count": 43,
     "metadata": {},
     "output_type": "execute_result"
    }
   ],
   "source": [
    "state_labels"
   ]
  },
  {
   "cell_type": "markdown",
   "id": "e34cdea1",
   "metadata": {},
   "source": [
    "Num caso idealista onde não existiria barulho/erro, a matriz de calibração seria uma matriz identidade $8x8$. Mas, uma vez que estamos a aplicar num dispositvo quântico real, haverá sempre algum barulho/erro."
   ]
  },
  {
   "cell_type": "code",
   "execution_count": 44,
   "id": "4cd0cd0a",
   "metadata": {},
   "outputs": [
    {
     "name": "stdout",
     "output_type": "stream",
     "text": [
      "JOB ID: 60b7883fdd5b829f163c1415\n"
     ]
    }
   ],
   "source": [
    "job_ignis = execute(meas_calibs, backend=backend_device, shots=shots)\n",
    "\n",
    "jobID_run_ignis = job_ignis.job_id()\n",
    "\n",
    "print('JOB ID: {}'.format(jobID_run_ignis))"
   ]
  },
  {
   "cell_type": "code",
   "execution_count": 45,
   "id": "8f476ccb",
   "metadata": {},
   "outputs": [],
   "source": [
    "job_get=backend_device.retrieve_job(\"60b7883fdd5b829f163c1415\")\n",
    "\n",
    "cal_results = job_get.result()"
   ]
  },
  {
   "cell_type": "code",
   "execution_count": 46,
   "id": "54d86d24",
   "metadata": {},
   "outputs": [
    {
     "data": {
      "image/png": "[encoded data removed]",
      "text/plain": [
       "<Figure size 432x288 with 2 Axes>"
      ]
     },
     "metadata": {
      "needs_background": "light"
     },
     "output_type": "display_data"
    }
   ],
   "source": [
    "meas_fitter = CompleteMeasFitter(cal_results, state_labels, circlabel='mcal')\n",
    "\n",
    "# Plot the calibration matrix\n",
    "meas_fitter.plot_calibration()"
   ]
  },
  {
   "cell_type": "markdown",
   "id": "ebbda0b3",
   "metadata": {},
   "source": [
    "### Análise de Resultados\n",
    "\n",
    "A $\\textit{ average assignment fidelity }$ é o traço da diagonal da matriz anterior. "
   ]
  },
  {
   "cell_type": "code",
   "execution_count": 47,
   "id": "846e9290",
   "metadata": {},
   "outputs": [
    {
     "name": "stdout",
     "output_type": "stream",
     "text": [
      "Average Measurement Fidelity: 0.868042\n"
     ]
    }
   ],
   "source": [
    "# Medida de fidelidade\n",
    "print(\"Average Measurement Fidelity: %f\" % meas_fitter.readout_fidelity())"
   ]
  },
  {
   "cell_type": "markdown",
   "id": "d6aad5dc",
   "metadata": {},
   "source": [
    "### Calibração"
   ]
  },
  {
   "cell_type": "code",
   "execution_count": 48,
   "id": "adf1c910",
   "metadata": {},
   "outputs": [],
   "source": [
    "# Filtro\n",
    "meas_filter = meas_fitter.filter\n",
    "\n",
    "# Resultados (mitigation)\n",
    "mitigated_results = meas_filter.apply(result_r)\n",
    "mitigated_counts = mitigated_results.get_counts()"
   ]
  },
  {
   "cell_type": "code",
   "execution_count": 49,
   "id": "d92b9402",
   "metadata": {},
   "outputs": [
    {
     "data": {
      "image/png": "[encoded data removed]",
      "text/plain": [
       "<Figure size 504x360 with 1 Axes>"
      ]
     },
     "execution_count": 49,
     "metadata": {},
     "output_type": "execute_result"
    }
   ],
   "source": [
    "plot_histogram([counts_run, mitigated_counts, counts_sim], legend=['raw', 'mitigated', 'ideal'])"
   ]
  },
  {
   "cell_type": "markdown",
   "id": "88d5700d",
   "metadata": {},
   "source": [
    "### Conclusão\n",
    "\n",
    "O algoritmo de Grover é relativamente simples, umas vez que a inserção das primeiras $Hadamard$ $gates$  colocam os qubits numa situação em que o estado das suas fases tem importância. O oráculo muda-as, já o difusor reorganiza-as para que mais tarde possam ser aplicadas novamente as $Hadamard$ $gates$ para assim obter o $w$ esperado. Portanto podemos concluir que somente o oráculo é alterado e o $diffuser$ mantém-se inalterado."
   ]
  },
  {
   "cell_type": "markdown",
   "id": "00a31c53",
   "metadata": {},
   "source": [
    "### BIBLIOGRAFIA \n",
    "\n",
    "Para a elaboração deste trabalho, consultamos as seguintes páginas da web, para o esclarecimento de dúvidas:\n",
    "\n",
    "- [Practical Guide](https://towardsdatascience.com/a-practical-guide-to-quantum-amplitude-amplification-dbcbe467044a)\n",
    "- [Qiskit Documentation](https://qiskit.org/textbook/ch-algorithms/grover.html)\n",
    "- [IBM Composer](https://quantum-computing.ibm.com/composer/files/2eca069b370b929ecbe89fb0b9b05db9)\n",
    "- [Grover’s Algorithm](https://averyparkinson23.medium.com/implementing-grovers-algorithm-in-qiskit-b5ddd7dccb2f)"
   ]
  },
  {
   "cell_type": "code",
   "execution_count": null,
   "id": "b4493df4",
   "metadata": {},
   "outputs": [],
   "source": []
  }
 ],
 "metadata": {
  "kernelspec": {
   "display_name": "Python 3",
   "language": "python",
   "name": "python3"
  },
  "language_info": {
   "codemirror_mode": {
    "name": "ipython",
    "version": 3
   },
   "file_extension": ".py",
   "mimetype": "text/x-python",
   "name": "python",
   "nbconvert_exporter": "python",
   "pygments_lexer": "ipython3",
   "version": "3.9.4"
  }
 },
 "nbformat": 4,
 "nbformat_minor": 5
}
