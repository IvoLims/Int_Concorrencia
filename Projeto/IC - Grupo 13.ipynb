{
 "cells": [
  {
   "cell_type": "markdown",
   "id": "e3ffe368",
   "metadata": {},
   "source": [
    "# Interação e Concorrência\n",
    "## Trabalho Prático - Grupo 13\n",
    "\n",
    "\n",
    "Grupo:\n",
    "- André Morandi A86912\n",
    "- Ivo Lima A90214\n"
   ]
  },
  {
   "cell_type": "code",
   "execution_count": 66,
   "id": "03a57364",
   "metadata": {},
   "outputs": [],
   "source": [
    "# importing Qiskit\n",
    "from qiskit import Aer, IBMQ\n",
    "from qiskit import QuantumCircuit, ClassicalRegister, QuantumRegister\n",
    "from qiskit import execute, transpile\n",
    "\n",
    "# import visualization tools\n",
    "from qiskit.tools.visualization import plot_histogram, plot_state_city, plot_state_hinton\n",
    "\n",
    "import matplotlib.pyplot as plt\n",
    "%matplotlib inline\n",
    "\n",
    "# Import measurement calibration functions\n",
    "from qiskit.ignis.mitigation.measurement import (complete_meas_cal, tensored_meas_cal,\n",
    "                                                 CompleteMeasFitter, TensoredMeasFitter)"
   ]
  },
  {
   "cell_type": "markdown",
   "id": "3513379f",
   "metadata": {},
   "source": [
    "Sabendo que o número do nosso grupo é $N$ = $13$\n",
    "\n",
    "Temos de de usar um $\\textit{quantum algorithm}$ para encontrar $s$ numa lista não ordenada, tal que"
   ]
  },
  {
   "cell_type": "markdown",
   "id": "46207730",
   "metadata": {},
   "source": [
    "$$ s = N \\space mod \\space 8 $$"
   ]
  },
  {
   "cell_type": "code",
   "execution_count": 67,
   "id": "7d6aef22",
   "metadata": {
    "scrolled": true
   },
   "outputs": [
    {
     "data": {
      "text/plain": [
       "5"
      ]
     },
     "execution_count": 67,
     "metadata": {},
     "output_type": "execute_result"
    }
   ],
   "source": [
    "N = 13\n",
    "s = N % 8\n",
    "s"
   ]
  },
  {
   "cell_type": "markdown",
   "id": "e67a1c4b",
   "metadata": {},
   "source": [
    "Passando o valor de $s$ para binário, ficamos com:"
   ]
  },
  {
   "cell_type": "code",
   "execution_count": 68,
   "id": "e1677952",
   "metadata": {
    "scrolled": true
   },
   "outputs": [
    {
     "data": {
      "text/plain": [
       "'101'"
      ]
     },
     "execution_count": 68,
     "metadata": {},
     "output_type": "execute_result"
    }
   ],
   "source": [
    "w = bin(s)[2:]\n",
    "w # winner"
   ]
  },
  {
   "cell_type": "markdown",
   "id": "eefbf338",
   "metadata": {},
   "source": [
    "Portanto, como $5$ em binário é $101$, iremos precisar de preparar um circuito quântico de 3 qubits"
   ]
  },
  {
   "cell_type": "code",
   "execution_count": 69,
   "id": "412ea104",
   "metadata": {},
   "outputs": [
    {
     "name": "stdout",
     "output_type": "stream",
     "text": [
      "Número de qubits:  3\n"
     ]
    }
   ],
   "source": [
    "x = 3\n",
    "print('Número de qubits: ', x)"
   ]
  },
  {
   "cell_type": "code",
   "execution_count": 85,
   "id": "7f95c86c",
   "metadata": {
    "scrolled": true
   },
   "outputs": [],
   "source": [
    "qr_x      = QuantumRegister(x, 'x')\n",
    "cr        = ClassicalRegister(x, 'cr')\n",
    "qc_Grover = QuantumCircuit(qr_x,cr) # circuito quântico"
   ]
  },
  {
   "cell_type": "markdown",
   "id": "16dc33eb",
   "metadata": {},
   "source": [
    "Portanto, iremos inicializar o estado $s$. Para tal criamos a seguinte função:"
   ]
  },
  {
   "cell_type": "code",
   "execution_count": 86,
   "id": "46a8e91c",
   "metadata": {},
   "outputs": [],
   "source": [
    "def init(qc_Grover):\n",
    "    qc_Grover.h(0)\n",
    "    qc_Grover.h(1)\n",
    "    qc_Grover.h(2)"
   ]
  },
  {
   "cell_type": "markdown",
   "id": "8c6823b3",
   "metadata": {},
   "source": [
    "### Implementação do Oracle\n",
    "\n",
    "Para computar um $\\textit{quantum algorithm}$ baseado em um determinada função, podemos implementar uma espécie de $\\textit{black box}$ da função. Passamos um $input$ $x$ e recebemos um $output$ $f(x)$.\n",
    "\n",
    "\n",
    "Para resolver os problemas, podemos definir o oráculo da seguinte forma: marcaremos nossa solução (ou soluções) com uma fase negativa ($-1$). Desta forma, podemos usar o $\\textit{Grover's algorithm}$ para resolver.\n",
    "\n",
    "$$ U_w \\lvert x \\rangle \\Rightarrow x \\neq w \\rightarrow \\lvert x \\rangle $$\n",
    "$$ U_w \\lvert x \\rangle \\Rightarrow x = w \\rightarrow -\\lvert x \\rangle $$ \n",
    "\n",
    "Tomando o valor $w$ como sendo $101$ resultará na seguinte matriz:\n",
    "\n",
    "$$ U_w =  \\begin{bmatrix}1 & 0 & 0 & 0 & 0 & 0 & 0 & 0\\\\    0 & 1 & 0 & 0 & 0 & 0 & 0 & 0\\\\0 & 0 & 1 & 0 & 0 & 0 & 0 & 0\\\\0 & 0 & 0 & 1 & 0 & 0 & 0 & 0\\\\0 & 0 & 0 & 0 & 1 & 0 & 0 & 0\\\\0 & 0 & 0 & 0 & 0 & −1 & 0 & 0\\\\0 & 0 & 0 & 0 & 0 & 0 & 1 & 0\\\\0 & 0 & 0 & 0 & 0 & 0 & 0 & 1\\\\ \\end{bmatrix}$$"
   ]
  },
  {
   "cell_type": "code",
   "execution_count": 72,
   "id": "0abf1b82",
   "metadata": {},
   "outputs": [],
   "source": [
    "def phase_oracle(qc_Grover, qr_x):\n",
    "    qc_Grover.x(qr_x[0])\n",
    "    qc_Grover.ccx(qr_x[0], qr_x[1], qr_x[2])\n",
    "    qc_Grover.x(qr_x[2])"
   ]
  },
  {
   "cell_type": "markdown",
   "id": "10b4e3da",
   "metadata": {},
   "source": [
    "---------------------------------------------------------------------------------\n",
    "De acordo com o que foi nos explicado durante as aulas da UC, a superposição colapsaria, sendo a probabilidade de cada uma das bases $\\frac{1}{N} = \\frac{1}{2^n}$ e o nossas chances de encontrar o valor $w$, $\\textit{à priori}$, seria de $1$ em $2^n$.\n",
    "\n",
    "O computador quântico utiliza a amplificação de amplitude para que possa aumentar a probailidade. Este processo amplifica a amplitude do $w$ enquanto diminiu a dos outros.\n",
    "\n",
    "![title](grover_step1.jpg)\n",
    "\n",
    "\n",
    "---------------------------------------------------------------------------------"
   ]
  },
  {
   "cell_type": "markdown",
   "id": "bcf36bdf",
   "metadata": {},
   "source": [
    "### Diffuser"
   ]
  },
  {
   "cell_type": "code",
   "execution_count": 73,
   "id": "7b6abcdf",
   "metadata": {},
   "outputs": [],
   "source": [
    "def diffuser(qc_Grover,qr_x):\n",
    "    qc_Grover.h(qr_x[0])\n",
    "    qc_Grover.x(qr_x[0])\n",
    "    \n",
    "    qc_Grover.h(qr_x[1])\n",
    "    qc_Grover.x(qr_x[1])\n",
    "    \n",
    "    qc_Grover.h(qr_x[2])\n",
    "    qc_Grover.x(qr_x[2])\n",
    "    \n",
    "    qc_Grover.h(qr_x[2])\n",
    "    qc_Grover.ccx(qr_x[0],qr_x[1],qr_x[2])\n",
    "    qc_Grover.h(qr_x[2])\n",
    "    \n",
    "    qc_Grover.h(qr_x[2])\n",
    "    qc_Grover.x(qr_x[2])\n",
    "    \n",
    "    qc_Grover.h(qr_x[1])\n",
    "    qc_Grover.x(qr_x[1])\n",
    "    \n",
    "    qc_Grover.h(qr_x[0])\n",
    "    qc_Grover.x(qr_x[0])"
   ]
  },
  {
   "cell_type": "markdown",
   "id": "981fe76a",
   "metadata": {},
   "source": [
    "O $qc\\_Grover$ vai inicializer o quantum circuit"
   ]
  },
  {
   "cell_type": "code",
   "execution_count": 74,
   "id": "ad372d64",
   "metadata": {},
   "outputs": [],
   "source": [
    "def init(qc_Grover):\n",
    "    qc_Grover.h(0)\n",
    "    qc_Grover.h(1)\n",
    "    qc_Grover.h(2)"
   ]
  },
  {
   "cell_type": "markdown",
   "id": "05b72f91",
   "metadata": {},
   "source": []
  },
  {
   "cell_type": "code",
   "execution_count": 75,
   "id": "c1a5b537",
   "metadata": {},
   "outputs": [
    {
     "data": {
      "image/png": "[encoded data removed]",
      "text/plain": [
       "<Figure size 1470.33x264.88 with 1 Axes>"
      ]
     },
     "execution_count": 75,
     "metadata": {},
     "output_type": "execute_result"
    }
   ],
   "source": [
    "cr=ClassicalRegister(x,'cr')\n",
    "qc_Grover= QuantumCircuit(qr_x,cr)\n",
    "\n",
    "init(qc_Grover)\n",
    "\n",
    "for t in range(2):\n",
    "    # phase oracle\n",
    "    phase_oracle(qc_Grover, qr_x)\n",
    "    # diffuser\n",
    "    diffuser(qc_Grover,qr_x)\n",
    "    \n",
    "qc_Grover.measure(qr_x,cr)\n",
    "\n",
    "qc_Grover.draw(output='mpl')"
   ]
  },
  {
   "cell_type": "markdown",
   "id": "ec4bf41a",
   "metadata": {},
   "source": [
    "Explicar resultado obtido"
   ]
  },
  {
   "cell_type": "code",
   "execution_count": 76,
   "id": "5b93157a",
   "metadata": {},
   "outputs": [],
   "source": [
    "backend = Aer.get_backend(\"qasm_simulator\")"
   ]
  },
  {
   "cell_type": "code",
   "execution_count": 77,
   "id": "99213827",
   "metadata": {
    "scrolled": true
   },
   "outputs": [
    {
     "data": {
      "image/png": "[encoded data removed]",
      "text/plain": [
       "<Figure size 504x360 with 1 Axes>"
      ]
     },
     "execution_count": 77,
     "metadata": {},
     "output_type": "execute_result"
    }
   ],
   "source": [
    "shots=1024\n",
    "result = execute(qc_Grover, backend, shots=shots).result()\n",
    "counts_sim = result.get_counts(qc_Grover)\n",
    "plot_histogram(counts_sim)"
   ]
  },
  {
   "cell_type": "code",
   "execution_count": 78,
   "id": "126d039b",
   "metadata": {
    "scrolled": true
   },
   "outputs": [
    {
     "data": {
      "text/plain": [
       "21"
      ]
     },
     "execution_count": 78,
     "metadata": {},
     "output_type": "execute_result"
    }
   ],
   "source": [
    "qc_Grover.depth()"
   ]
  },
  {
   "cell_type": "markdown",
   "id": "ac717904",
   "metadata": {},
   "source": []
  },
  {
   "cell_type": "code",
   "execution_count": null,
   "id": "55abf530",
   "metadata": {},
   "outputs": [],
   "source": []
  },
  {
   "cell_type": "code",
   "execution_count": null,
   "id": "17c788a7",
   "metadata": {},
   "outputs": [],
   "source": []
  },
  {
   "cell_type": "markdown",
   "id": "b053d1fd",
   "metadata": {},
   "source": [
    "### Correr num quantum computer"
   ]
  },
  {
   "cell_type": "code",
   "execution_count": 79,
   "id": "107d2f05",
   "metadata": {},
   "outputs": [
    {
     "name": "stderr",
     "output_type": "stream",
     "text": [
      "ibmqfactory.load_account:WARNING:2021-06-01 12:13:43,424: Credentials are already in use. The existing account in the session will be replaced.\n"
     ]
    },
    {
     "data": {
      "text/plain": [
       "[<IBMQSimulator('ibmq_qasm_simulator') from IBMQ(hub='ibm-q', group='open', project='main')>,\n",
       " <IBMQBackend('ibmqx2') from IBMQ(hub='ibm-q', group='open', project='main')>,\n",
       " <IBMQBackend('ibmq_16_melbourne') from IBMQ(hub='ibm-q', group='open', project='main')>,\n",
       " <IBMQBackend('ibmq_armonk') from IBMQ(hub='ibm-q', group='open', project='main')>,\n",
       " <IBMQBackend('ibmq_athens') from IBMQ(hub='ibm-q', group='open', project='main')>,\n",
       " <IBMQBackend('ibmq_santiago') from IBMQ(hub='ibm-q', group='open', project='main')>,\n",
       " <IBMQBackend('ibmq_lima') from IBMQ(hub='ibm-q', group='open', project='main')>,\n",
       " <IBMQBackend('ibmq_belem') from IBMQ(hub='ibm-q', group='open', project='main')>,\n",
       " <IBMQBackend('ibmq_quito') from IBMQ(hub='ibm-q', group='open', project='main')>,\n",
       " <IBMQSimulator('simulator_statevector') from IBMQ(hub='ibm-q', group='open', project='main')>,\n",
       " <IBMQSimulator('simulator_mps') from IBMQ(hub='ibm-q', group='open', project='main')>,\n",
       " <IBMQSimulator('simulator_extended_stabilizer') from IBMQ(hub='ibm-q', group='open', project='main')>,\n",
       " <IBMQSimulator('simulator_stabilizer') from IBMQ(hub='ibm-q', group='open', project='main')>,\n",
       " <IBMQBackend('ibmq_manila') from IBMQ(hub='ibm-q', group='open', project='main')>]"
      ]
     },
     "execution_count": 79,
     "metadata": {},
     "output_type": "execute_result"
    }
   ],
   "source": [
    "provider = IBMQ.load_account()\n",
    "provider.backends()"
   ]
  },
  {
   "cell_type": "code",
   "execution_count": 80,
   "id": "7b287fd4",
   "metadata": {},
   "outputs": [
    {
     "data": {
      "application/vnd.jupyter.widget-view+json": {
       "model_id": "d531a9886d87447cab713af68c83ee8f",
       "version_major": 2,
       "version_minor": 0
      },
      "text/plain": [
       "VBox(children=(HTML(value=\"<h2 style ='color:#ffffff; background-color:#000000;padding-top: 1%; padding-bottom…"
      ]
     },
     "metadata": {},
     "output_type": "display_data"
    }
   ],
   "source": [
    "# Backend overview\n",
    "import qiskit.tools.jupyter\n",
    "\n",
    "%qiskit_backend_overview"
   ]
  },
  {
   "cell_type": "code",
   "execution_count": 81,
   "id": "e747a95b",
   "metadata": {},
   "outputs": [
    {
     "name": "stdout",
     "output_type": "stream",
     "text": [
      "ibmq_manila                  ibmq_quito                  ibmq_belem\n",
      "-----------                  ----------                  ----------\n",
      "Num. Qubits:  5              Num. Qubits:  5             Num. Qubits:  5\n",
      "Pending Jobs: 14             Pending Jobs: 0             Pending Jobs: 1\n",
      "Least busy:   False          Least busy:   True          Least busy:   False\n",
      "Operational:  True           Operational:  True          Operational:  True\n",
      "Avg. T1:      152.1          Avg. T1:      88.9          Avg. T1:      83.6\n",
      "Avg. T2:      64.4           Avg. T2:      80.4          Avg. T2:      76.4\n",
      "\n",
      "\n",
      "\n",
      "ibmq_lima                    ibmq_santiago                ibmq_athens\n",
      "---------                    -------------                -----------\n",
      "Num. Qubits:  5              Num. Qubits:  5              Num. Qubits:  5\n",
      "Pending Jobs: 14             Pending Jobs: 11             Pending Jobs: 6\n",
      "Least busy:   False          Least busy:   False          Least busy:   False\n",
      "Operational:  True           Operational:  True           Operational:  True\n",
      "Avg. T1:      61.9           Avg. T1:      124.0          Avg. T1:      93.6\n",
      "Avg. T2:      61.4           Avg. T2:      120.8          Avg. T2:      101.0\n",
      "\n",
      "\n",
      "\n",
      "ibmq_armonk                  ibmq_16_melbourne            ibmqx2\n",
      "-----------                  -----------------            ------\n",
      "Num. Qubits:  1              Num. Qubits:  15             Num. Qubits:  5\n",
      "Pending Jobs: 35             Pending Jobs: 275            Pending Jobs: 196\n",
      "Least busy:   False          Least busy:   False          Least busy:   False\n",
      "Operational:  True           Operational:  True           Operational:  True\n",
      "Avg. T1:      165.5          Avg. T1:      53.3           Avg. T1:      55.4\n",
      "Avg. T2:      283.2          Avg. T2:      54.3           Avg. T2:      36.5\n",
      "\n",
      "\n",
      "\n"
     ]
    }
   ],
   "source": [
    "from qiskit.tools.monitor import backend_overview, backend_monitor\n",
    "\n",
    "backend_overview()"
   ]
  },
  {
   "cell_type": "markdown",
   "id": "7c4b13eb",
   "metadata": {},
   "source": [
    "Explicar porque escolhemos a maquina"
   ]
  },
  {
   "cell_type": "code",
   "execution_count": null,
   "id": "3d43723f",
   "metadata": {},
   "outputs": [],
   "source": []
  },
  {
   "cell_type": "code",
   "execution_count": null,
   "id": "a59c275f",
   "metadata": {},
   "outputs": [],
   "source": []
  },
  {
   "cell_type": "code",
   "execution_count": null,
   "id": "7a28fff2",
   "metadata": {},
   "outputs": [],
   "source": []
  },
  {
   "cell_type": "code",
   "execution_count": null,
   "id": "38b0c53c",
   "metadata": {},
   "outputs": [],
   "source": []
  },
  {
   "cell_type": "markdown",
   "id": "675c5fdf",
   "metadata": {},
   "source": [
    "Juntando todos estes factores teremos a seguinte função:"
   ]
  },
  {
   "cell_type": "code",
   "execution_count": null,
   "id": "b9de1070",
   "metadata": {},
   "outputs": [],
   "source": []
  },
  {
   "cell_type": "code",
   "execution_count": null,
   "id": "b9cb3405",
   "metadata": {},
   "outputs": [],
   "source": []
  },
  {
   "cell_type": "code",
   "execution_count": null,
   "id": "fc0c9770",
   "metadata": {},
   "outputs": [],
   "source": []
  },
  {
   "cell_type": "code",
   "execution_count": null,
   "id": "f64915c5",
   "metadata": {},
   "outputs": [],
   "source": []
  },
  {
   "cell_type": "code",
   "execution_count": 82,
   "id": "903bb49a",
   "metadata": {},
   "outputs": [
    {
     "ename": "IndexError",
     "evalue": "list index out of range",
     "output_type": "error",
     "traceback": [
      "\u001b[1;31m---------------------------------------------------------------------------\u001b[0m",
      "\u001b[1;31mIndexError\u001b[0m                                Traceback (most recent call last)",
      "\u001b[1;32m<ipython-input-82-8b5a2f0900a5>\u001b[0m in \u001b[0;36m<module>\u001b[1;34m\u001b[0m\n\u001b[0;32m      7\u001b[0m \u001b[1;31m# state_labels:\u001b[0m\u001b[1;33m\u001b[0m\u001b[1;33m\u001b[0m\u001b[1;33m\u001b[0m\u001b[0m\n\u001b[0;32m      8\u001b[0m \u001b[1;31m# calibration state labels\u001b[0m\u001b[1;33m\u001b[0m\u001b[1;33m\u001b[0m\u001b[1;33m\u001b[0m\u001b[0m\n\u001b[1;32m----> 9\u001b[1;33m \u001b[0mmeas_calibs\u001b[0m\u001b[1;33m,\u001b[0m \u001b[0mstate_labels\u001b[0m \u001b[1;33m=\u001b[0m \u001b[0mcomplete_meas_cal\u001b[0m\u001b[1;33m(\u001b[0m\u001b[0mqubit_list\u001b[0m\u001b[1;33m=\u001b[0m\u001b[1;33m[\u001b[0m\u001b[1;36m0\u001b[0m\u001b[1;33m,\u001b[0m\u001b[1;36m1\u001b[0m\u001b[1;33m,\u001b[0m\u001b[1;36m2\u001b[0m\u001b[1;33m,\u001b[0m\u001b[1;36m3\u001b[0m\u001b[1;33m,\u001b[0m\u001b[1;36m4\u001b[0m\u001b[1;33m]\u001b[0m\u001b[1;33m,\u001b[0m \u001b[0mqr\u001b[0m\u001b[1;33m=\u001b[0m\u001b[0mqr\u001b[0m\u001b[1;33m,\u001b[0m \u001b[0mcirclabel\u001b[0m\u001b[1;33m=\u001b[0m\u001b[1;34m'mcal'\u001b[0m\u001b[1;33m)\u001b[0m\u001b[1;33m\u001b[0m\u001b[1;33m\u001b[0m\u001b[0m\n\u001b[0m",
      "\u001b[1;32m~\\anaconda3\\envs\\ENV\\lib\\site-packages\\qiskit\\ignis\\mitigation\\measurement\\circuits.py\u001b[0m in \u001b[0;36mcomplete_meas_cal\u001b[1;34m(qubit_list, qr, cr, circlabel)\u001b[0m\n\u001b[0;32m     89\u001b[0m     \u001b[0mstate_labels\u001b[0m \u001b[1;33m=\u001b[0m \u001b[0mcount_keys\u001b[0m\u001b[1;33m(\u001b[0m\u001b[0mnqubits\u001b[0m\u001b[1;33m)\u001b[0m\u001b[1;33m\u001b[0m\u001b[1;33m\u001b[0m\u001b[0m\n\u001b[0;32m     90\u001b[0m \u001b[1;33m\u001b[0m\u001b[0m\n\u001b[1;32m---> 91\u001b[1;33m     cal_circuits, _ = tensored_meas_cal([qubit_list],\n\u001b[0m\u001b[0;32m     92\u001b[0m                                         qr, cr, circlabel)\n\u001b[0;32m     93\u001b[0m \u001b[1;33m\u001b[0m\u001b[0m\n",
      "\u001b[1;32m~\\anaconda3\\envs\\ENV\\lib\\site-packages\\qiskit\\ignis\\mitigation\\measurement\\circuits.py\u001b[0m in \u001b[0;36mtensored_meas_cal\u001b[1;34m(mit_pattern, qr, cr, circlabel)\u001b[0m\n\u001b[0;32m    204\u001b[0m \u001b[1;33m\u001b[0m\u001b[0m\n\u001b[0;32m    205\u001b[0m             \u001b[1;32mfor\u001b[0m \u001b[0mqind\u001b[0m \u001b[1;32min\u001b[0m \u001b[0mrange\u001b[0m\u001b[1;33m(\u001b[0m\u001b[0mlist_size\u001b[0m\u001b[1;33m)\u001b[0m\u001b[1;33m:\u001b[0m\u001b[1;33m\u001b[0m\u001b[1;33m\u001b[0m\u001b[0m\n\u001b[1;32m--> 206\u001b[1;33m                 qc_circuit.measure(qr[qubit_list[qind]],\n\u001b[0m\u001b[0;32m    207\u001b[0m                                    cr[nqubits-(end_index-qind)])\n\u001b[0;32m    208\u001b[0m \u001b[1;33m\u001b[0m\u001b[0m\n",
      "\u001b[1;32m~\\anaconda3\\envs\\ENV\\lib\\site-packages\\qiskit\\circuit\\register.py\u001b[0m in \u001b[0;36m__getitem__\u001b[1;34m(self, key)\u001b[0m\n\u001b[0;32m    156\u001b[0m                 \u001b[1;32mraise\u001b[0m \u001b[0mCircuitError\u001b[0m\u001b[1;33m(\u001b[0m\u001b[1;34m'register index out of range'\u001b[0m\u001b[1;33m)\u001b[0m\u001b[1;33m\u001b[0m\u001b[1;33m\u001b[0m\u001b[0m\n\u001b[0;32m    157\u001b[0m         \u001b[1;32melse\u001b[0m\u001b[1;33m:\u001b[0m\u001b[1;33m\u001b[0m\u001b[1;33m\u001b[0m\u001b[0m\n\u001b[1;32m--> 158\u001b[1;33m             \u001b[1;32mreturn\u001b[0m \u001b[0mself\u001b[0m\u001b[1;33m.\u001b[0m\u001b[0m_bits\u001b[0m\u001b[1;33m[\u001b[0m\u001b[0mkey\u001b[0m\u001b[1;33m]\u001b[0m\u001b[1;33m\u001b[0m\u001b[1;33m\u001b[0m\u001b[0m\n\u001b[0m\u001b[0;32m    159\u001b[0m \u001b[1;33m\u001b[0m\u001b[0m\n\u001b[0;32m    160\u001b[0m     \u001b[1;32mdef\u001b[0m \u001b[0m__iter__\u001b[0m\u001b[1;33m(\u001b[0m\u001b[0mself\u001b[0m\u001b[1;33m)\u001b[0m\u001b[1;33m:\u001b[0m\u001b[1;33m\u001b[0m\u001b[1;33m\u001b[0m\u001b[0m\n",
      "\u001b[1;31mIndexError\u001b[0m: list index out of range"
     ]
    }
   ],
   "source": [
    "# Generate the calibration circuits\n",
    "qr = QuantumRegister(x)\n",
    "\n",
    "\n",
    "# meas_calibs:\n",
    "# list of quantum circuit objects containing the calibration circuits\n",
    "# state_labels:\n",
    "# calibration state labels\n",
    "meas_calibs, state_labels = complete_meas_cal(qubit_list=[0,1,2,3,4], qr=qr, circlabel='mcal')\n"
   ]
  },
  {
   "cell_type": "code",
   "execution_count": null,
   "id": "5109e99f",
   "metadata": {},
   "outputs": [],
   "source": [
    "state_labels"
   ]
  },
  {
   "cell_type": "code",
   "execution_count": null,
   "id": "10e14b1e",
   "metadata": {},
   "outputs": [],
   "source": []
  },
  {
   "cell_type": "code",
   "execution_count": null,
   "id": "821af8cf",
   "metadata": {},
   "outputs": [],
   "source": []
  }
 ],
 "metadata": {
  "kernelspec": {
   "display_name": "Python 3",
   "language": "python",
   "name": "python3"
  },
  "language_info": {
   "codemirror_mode": {
    "name": "ipython",
    "version": 3
   },
   "file_extension": ".py",
   "mimetype": "text/x-python",
   "name": "python",
   "nbconvert_exporter": "python",
   "pygments_lexer": "ipython3",
   "version": "3.9.4"
  }
 },
 "nbformat": 4,
 "nbformat_minor": 5
}
