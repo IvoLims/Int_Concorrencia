{
 "cells": [
  {
   "cell_type": "markdown",
   "id": "e3ffe368",
   "metadata": {},
   "source": [
    "# Interação e Concorrência\n",
    "## Trabalho Prático - Grupo 13\n",
    "\n",
    "\n",
    "Grupo:\n",
    "- André Morandi A86912\n",
    "- Ivo Lima A90214\n"
   ]
  },
  {
   "cell_type": "code",
   "execution_count": 74,
   "id": "03a57364",
   "metadata": {},
   "outputs": [],
   "source": [
    "# importing Qiskit\n",
    "from qiskit import Aer, IBMQ\n",
    "from qiskit import QuantumCircuit, ClassicalRegister, QuantumRegister\n",
    "from qiskit import execute, transpile\n",
    "\n",
    "from qiskit.tools.visualization import plot_histogram, plot_state_city, plot_state_hinton\n",
    "\n",
    "import matplotlib.pyplot as plt\n",
    "%matplotlib inline\n",
    "\n",
    "# Import measurement calibration functions\n",
    "from qiskit.ignis.mitigation.measurement import (complete_meas_cal, tensored_meas_cal,\n",
    "                                                 CompleteMeasFitter, TensoredMeasFitter)"
   ]
  },
  {
   "cell_type": "markdown",
   "id": "3513379f",
   "metadata": {},
   "source": [
    "Nosso número $N$ = $13$\n",
    "\n",
    "Temos de de usar um $\\textit{quantum algorithm}$ para encontrar $s$ tal que"
   ]
  },
  {
   "cell_type": "markdown",
   "id": "46207730",
   "metadata": {},
   "source": [
    "$$ s = N \\space mod \\space 8 $$"
   ]
  },
  {
   "cell_type": "code",
   "execution_count": 138,
   "id": "7d6aef22",
   "metadata": {},
   "outputs": [
    {
     "data": {
      "text/plain": [
       "5"
      ]
     },
     "execution_count": 138,
     "metadata": {},
     "output_type": "execute_result"
    }
   ],
   "source": [
    "N = 13\n",
    "s = N % 8\n",
    "s"
   ]
  },
  {
   "cell_type": "markdown",
   "id": "37d82842",
   "metadata": {},
   "source": [
    "numa lista não ordenada"
   ]
  },
  {
   "cell_type": "code",
   "execution_count": 139,
   "id": "e1677952",
   "metadata": {
    "scrolled": true
   },
   "outputs": [
    {
     "data": {
      "text/plain": [
       "'101'"
      ]
     },
     "execution_count": 139,
     "metadata": {},
     "output_type": "execute_result"
    }
   ],
   "source": [
    "ss = bin(s)[2:]\n",
    "ss"
   ]
  },
  {
   "cell_type": "markdown",
   "id": "eefbf338",
   "metadata": {},
   "source": [
    "Portanto, como $5$ em binário é $101$, precisamos de 3 qubits para representar"
   ]
  },
  {
   "cell_type": "code",
   "execution_count": 140,
   "id": "412ea104",
   "metadata": {},
   "outputs": [
    {
     "name": "stdout",
     "output_type": "stream",
     "text": [
      "Number of qubits:  3\n"
     ]
    }
   ],
   "source": [
    "x = 3\n",
    "print('Number of qubits: ', x)"
   ]
  },
  {
   "cell_type": "code",
   "execution_count": 141,
   "id": "7f95c86c",
   "metadata": {},
   "outputs": [],
   "source": [
    "qr_x = QuantumRegister(x, 'x')"
   ]
  },
  {
   "cell_type": "code",
   "execution_count": 142,
   "id": "eb121e9f",
   "metadata": {},
   "outputs": [],
   "source": [
    "backend = Aer.get_backend(\"qasm_simulator\")"
   ]
  },
  {
   "cell_type": "markdown",
   "id": "8c6823b3",
   "metadata": {},
   "source": [
    "### Implementação do Oracle"
   ]
  },
  {
   "cell_type": "code",
   "execution_count": 145,
   "id": "0abf1b82",
   "metadata": {},
   "outputs": [],
   "source": [
    "def phase_oracle(qc_Grover, qr_x):\n",
    "    qc_Grover.x(qr_x[0])\n",
    "    qc_Grover.ccx(qr_x[0], qr_x[1], qr_x[2])\n",
    "    qc_Grover.x(qr_x[2])"
   ]
  },
  {
   "cell_type": "markdown",
   "id": "bcf36bdf",
   "metadata": {},
   "source": [
    "### Diffuser"
   ]
  },
  {
   "cell_type": "code",
   "execution_count": 146,
   "id": "7b6abcdf",
   "metadata": {},
   "outputs": [],
   "source": [
    "def diffuser(qc_Grover,qr_x):\n",
    "    qc_Grover.h(qr_x[0])\n",
    "    qc_Grover.x(qr_x[0])\n",
    "    \n",
    "    qc_Grover.h(qr_x[1])\n",
    "    qc_Grover.x(qr_x[1])\n",
    "    \n",
    "    qc_Grover.h(qr_x[2])\n",
    "    qc_Grover.x(qr_x[2])\n",
    "    \n",
    "    qc_Grover.h(qr_x[2])\n",
    "    qc_Grover.ccx(qr_x[0],qr_x[1],qr_x[2])\n",
    "    qc_Grover.h(qr_x[2])\n",
    "    \n",
    "    qc_Grover.h(qr_x[2])\n",
    "    qc_Grover.x(qr_x[2])\n",
    "    \n",
    "    qc_Grover.h(qr_x[1])\n",
    "    qc_Grover.x(qr_x[1])\n",
    "    \n",
    "    qc_Grover.h(qr_x[0])\n",
    "    qc_Grover.x(qr_x[0])"
   ]
  },
  {
   "cell_type": "markdown",
   "id": "981fe76a",
   "metadata": {},
   "source": [
    "O $qc\\_Grover$ vai inicializer o quantum circuit"
   ]
  },
  {
   "cell_type": "code",
   "execution_count": 147,
   "id": "ad372d64",
   "metadata": {},
   "outputs": [],
   "source": [
    "def init(qc_Grover):\n",
    "    qc_Grover.h(0)\n",
    "    qc_Grover.h(1)\n",
    "    qc_Grover.h(2)"
   ]
  },
  {
   "cell_type": "markdown",
   "id": "05b72f91",
   "metadata": {},
   "source": []
  },
  {
   "cell_type": "code",
   "execution_count": 132,
   "id": "c1a5b537",
   "metadata": {},
   "outputs": [
    {
     "data": {
      "image/png": "[encoded data removed]",
      "text/plain": [
       "<Figure size 1470.33x264.88 with 1 Axes>"
      ]
     },
     "execution_count": 132,
     "metadata": {},
     "output_type": "execute_result"
    }
   ],
   "source": [
    "cr=ClassicalRegister(x,'cr')\n",
    "qc_Grover= QuantumCircuit(qr_x,cr)\n",
    "\n",
    "\n",
    "init(qc_Grover)\n",
    "\n",
    "\n",
    "for t in range(2):\n",
    "    # phase oracle\n",
    "    phase_oracle(qc_Grover, qr_x)\n",
    "    # diffuser\n",
    "    diffuser(qc_Grover,qr_x)\n",
    "qc_Grover.measure(qr_x,cr)\n",
    "\n",
    "qc_Grover.draw(output='mpl')"
   ]
  },
  {
   "cell_type": "markdown",
   "id": "ec4bf41a",
   "metadata": {},
   "source": [
    "Explicar resultado obtido"
   ]
  },
  {
   "cell_type": "code",
   "execution_count": 133,
   "id": "99213827",
   "metadata": {
    "scrolled": true
   },
   "outputs": [
    {
     "data": {
      "image/png": "[encoded data removed]",
      "text/plain": [
       "<Figure size 504x360 with 1 Axes>"
      ]
     },
     "execution_count": 133,
     "metadata": {},
     "output_type": "execute_result"
    }
   ],
   "source": [
    "shots=1024\n",
    "result = execute(qc_Grover, backend, shots=shots).result()\n",
    "counts_sim = result.get_counts(qc_Grover)\n",
    "plot_histogram(counts_sim)"
   ]
  },
  {
   "cell_type": "code",
   "execution_count": 134,
   "id": "126d039b",
   "metadata": {},
   "outputs": [
    {
     "data": {
      "text/plain": [
       "21"
      ]
     },
     "execution_count": 134,
     "metadata": {},
     "output_type": "execute_result"
    }
   ],
   "source": [
    "qc_Grover.depth()"
   ]
  },
  {
   "cell_type": "markdown",
   "id": "b053d1fd",
   "metadata": {},
   "source": [
    "Run on a quantum computer"
   ]
  },
  {
   "cell_type": "code",
   "execution_count": 135,
   "id": "107d2f05",
   "metadata": {},
   "outputs": [
    {
     "name": "stderr",
     "output_type": "stream",
     "text": [
      "ibmqfactory.load_account:WARNING:2021-05-31 20:20:01,115: Credentials are already in use. The existing account in the session will be replaced.\n"
     ]
    },
    {
     "data": {
      "text/plain": [
       "[<IBMQSimulator('ibmq_qasm_simulator') from IBMQ(hub='ibm-q', group='open', project='main')>,\n",
       " <IBMQBackend('ibmqx2') from IBMQ(hub='ibm-q', group='open', project='main')>,\n",
       " <IBMQBackend('ibmq_16_melbourne') from IBMQ(hub='ibm-q', group='open', project='main')>,\n",
       " <IBMQBackend('ibmq_armonk') from IBMQ(hub='ibm-q', group='open', project='main')>,\n",
       " <IBMQBackend('ibmq_athens') from IBMQ(hub='ibm-q', group='open', project='main')>,\n",
       " <IBMQBackend('ibmq_santiago') from IBMQ(hub='ibm-q', group='open', project='main')>,\n",
       " <IBMQBackend('ibmq_lima') from IBMQ(hub='ibm-q', group='open', project='main')>,\n",
       " <IBMQBackend('ibmq_belem') from IBMQ(hub='ibm-q', group='open', project='main')>,\n",
       " <IBMQBackend('ibmq_quito') from IBMQ(hub='ibm-q', group='open', project='main')>,\n",
       " <IBMQSimulator('simulator_statevector') from IBMQ(hub='ibm-q', group='open', project='main')>,\n",
       " <IBMQSimulator('simulator_mps') from IBMQ(hub='ibm-q', group='open', project='main')>,\n",
       " <IBMQSimulator('simulator_extended_stabilizer') from IBMQ(hub='ibm-q', group='open', project='main')>,\n",
       " <IBMQSimulator('simulator_stabilizer') from IBMQ(hub='ibm-q', group='open', project='main')>,\n",
       " <IBMQBackend('ibmq_manila') from IBMQ(hub='ibm-q', group='open', project='main')>]"
      ]
     },
     "execution_count": 135,
     "metadata": {},
     "output_type": "execute_result"
    }
   ],
   "source": [
    "provider = IBMQ.load_account()\n",
    "provider.backends()"
   ]
  },
  {
   "cell_type": "code",
   "execution_count": 136,
   "id": "7b287fd4",
   "metadata": {},
   "outputs": [
    {
     "data": {
      "application/vnd.jupyter.widget-view+json": {
       "model_id": "e112760e7fb643509233923622c9dceb",
       "version_major": 2,
       "version_minor": 0
      },
      "text/plain": [
       "VBox(children=(HTML(value=\"<h2 style ='color:#ffffff; background-color:#000000;padding-top: 1%; padding-bottom…"
      ]
     },
     "metadata": {},
     "output_type": "display_data"
    }
   ],
   "source": [
    "# Backend overview\n",
    "import qiskit.tools.jupyter\n",
    "\n",
    "%qiskit_backend_overview"
   ]
  },
  {
   "cell_type": "code",
   "execution_count": 137,
   "id": "e747a95b",
   "metadata": {},
   "outputs": [
    {
     "name": "stdout",
     "output_type": "stream",
     "text": [
      "ibmq_manila                  ibmq_quito                   ibmq_belem\n",
      "-----------                  ----------                   ----------\n",
      "Num. Qubits:  5              Num. Qubits:  5              Num. Qubits:  5\n",
      "Pending Jobs: 18             Pending Jobs: 4              Pending Jobs: 0\n",
      "Least busy:   False          Least busy:   False          Least busy:   True\n",
      "Operational:  True           Operational:  True           Operational:  True\n",
      "Avg. T1:      156.5          Avg. T1:      82.4           Avg. T1:      82.6\n",
      "Avg. T2:      69.7           Avg. T2:      76.5           Avg. T2:      82.6\n",
      "\n",
      "\n",
      "\n",
      "ibmq_lima                    ibmq_santiago                ibmq_athens\n",
      "---------                    -------------                -----------\n",
      "Num. Qubits:  5              Num. Qubits:  5              Num. Qubits:  5\n",
      "Pending Jobs: 12             Pending Jobs: 13             Pending Jobs: 6\n",
      "Least busy:   False          Least busy:   False          Least busy:   False\n",
      "Operational:  True           Operational:  True           Operational:  True\n",
      "Avg. T1:      53.4           Avg. T1:      141.8          Avg. T1:      86.2\n",
      "Avg. T2:      65.5           Avg. T2:      102.8          Avg. T2:      123.7\n",
      "\n",
      "\n",
      "\n",
      "ibmq_armonk                  ibmq_16_melbourne            ibmqx2\n",
      "-----------                  -----------------            ------\n",
      "Num. Qubits:  1              Num. Qubits:  15             Num. Qubits:  5\n",
      "Pending Jobs: 43             Pending Jobs: 409            Pending Jobs: 1\n",
      "Least busy:   False          Least busy:   False          Least busy:   False\n",
      "Operational:  True           Operational:  True           Operational:  True\n",
      "Avg. T1:      171.5          Avg. T1:      54.8           Avg. T1:      53.4\n",
      "Avg. T2:      209.6          Avg. T2:      54.4           Avg. T2:      36.3\n",
      "\n",
      "\n",
      "\n"
     ]
    }
   ],
   "source": [
    "from qiskit.tools.monitor import backend_overview, backend_monitor\n",
    "\n",
    "backend_overview()"
   ]
  },
  {
   "cell_type": "markdown",
   "id": "7c4b13eb",
   "metadata": {},
   "source": [
    "Explicar porque escolhemos a maquina"
   ]
  },
  {
   "cell_type": "code",
   "execution_count": null,
   "id": "3d43723f",
   "metadata": {},
   "outputs": [],
   "source": []
  },
  {
   "cell_type": "code",
   "execution_count": null,
   "id": "a59c275f",
   "metadata": {},
   "outputs": [],
   "source": []
  },
  {
   "cell_type": "code",
   "execution_count": null,
   "id": "7a28fff2",
   "metadata": {},
   "outputs": [],
   "source": []
  },
  {
   "cell_type": "code",
   "execution_count": null,
   "id": "38b0c53c",
   "metadata": {},
   "outputs": [],
   "source": []
  },
  {
   "cell_type": "code",
   "execution_count": null,
   "id": "27dee3cf",
   "metadata": {},
   "outputs": [],
   "source": []
  },
  {
   "cell_type": "code",
   "execution_count": null,
   "id": "b9de1070",
   "metadata": {},
   "outputs": [],
   "source": []
  },
  {
   "cell_type": "code",
   "execution_count": null,
   "id": "b9cb3405",
   "metadata": {},
   "outputs": [],
   "source": []
  },
  {
   "cell_type": "code",
   "execution_count": null,
   "id": "fc0c9770",
   "metadata": {},
   "outputs": [],
   "source": []
  },
  {
   "cell_type": "code",
   "execution_count": null,
   "id": "f64915c5",
   "metadata": {},
   "outputs": [],
   "source": []
  },
  {
   "cell_type": "code",
   "execution_count": null,
   "id": "903bb49a",
   "metadata": {},
   "outputs": [],
   "source": [
    "# Generate the calibration circuits\n",
    "qr = QuantumRegister(x)\n",
    "\n",
    "\n",
    "# meas_calibs:\n",
    "# list of quantum circuit objects containing the calibration circuits\n",
    "# state_labels:\n",
    "# calibration state labels\n",
    "meas_calibs, state_labels = complete_meas_cal(qubit_list=[0,1,2,3,4], qr=qr, circlabel='mcal')\n"
   ]
  },
  {
   "cell_type": "code",
   "execution_count": null,
   "id": "5109e99f",
   "metadata": {},
   "outputs": [],
   "source": [
    "state_labels"
   ]
  },
  {
   "cell_type": "code",
   "execution_count": null,
   "id": "10e14b1e",
   "metadata": {},
   "outputs": [],
   "source": []
  },
  {
   "cell_type": "code",
   "execution_count": null,
   "id": "821af8cf",
   "metadata": {},
   "outputs": [],
   "source": []
  }
 ],
 "metadata": {
  "kernelspec": {
   "display_name": "Python 3",
   "language": "python",
   "name": "python3"
  },
  "language_info": {
   "codemirror_mode": {
    "name": "ipython",
    "version": 3
   },
   "file_extension": ".py",
   "mimetype": "text/x-python",
   "name": "python",
   "nbconvert_exporter": "python",
   "pygments_lexer": "ipython3",
   "version": "3.9.4"
  }
 },
 "nbformat": 4,
 "nbformat_minor": 5
}
